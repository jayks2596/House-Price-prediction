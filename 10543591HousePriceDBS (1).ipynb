{
 "cells": [
  {
   "cell_type": "markdown",
   "metadata": {
    "id": "9EL2-vETk_X2"
   },
   "source": [
    "### Import required libraries"
   ]
  },
  {
   "cell_type": "code",
   "execution_count": 1,
   "metadata": {
    "id": "9vX14IH2k94i"
   },
   "outputs": [],
   "source": [
    "import pandas as pd\n",
    "import numpy as np\n",
    "import seaborn as sns\n",
    "import matplotlib.pyplot as plt\n",
    "from pandas import DataFrame\n",
    "sns.set_style('whitegrid')"
   ]
  },
  {
   "cell_type": "markdown",
   "metadata": {
    "id": "VxHj10jflkSG"
   },
   "source": [
    "### Import Data"
   ]
  },
  {
   "cell_type": "code",
   "execution_count": 3,
   "metadata": {
    "colab": {
     "base_uri": "https://localhost:8080/",
     "height": 523
    },
    "id": "CSUzTKvkfylo",
    "outputId": "14b7fd93-8b06-470e-d35c-eff5e9ce59ec"
   },
   "outputs": [
    {
     "data": {
      "text/html": [
       "<style  type=\"text/css\" >\n",
       "#T_91f6557a_5e66_11eb_84b8_0242ac1c0002row0_col2,#T_91f6557a_5e66_11eb_84b8_0242ac1c0002row1_col2,#T_91f6557a_5e66_11eb_84b8_0242ac1c0002row2_col2,#T_91f6557a_5e66_11eb_84b8_0242ac1c0002row3_col2,#T_91f6557a_5e66_11eb_84b8_0242ac1c0002row4_col2,#T_91f6557a_5e66_11eb_84b8_0242ac1c0002row5_col2,#T_91f6557a_5e66_11eb_84b8_0242ac1c0002row6_col2,#T_91f6557a_5e66_11eb_84b8_0242ac1c0002row7_col2,#T_91f6557a_5e66_11eb_84b8_0242ac1c0002row8_col2,#T_91f6557a_5e66_11eb_84b8_0242ac1c0002row9_col2,#T_91f6557a_5e66_11eb_84b8_0242ac1c0002row10_col2,#T_91f6557a_5e66_11eb_84b8_0242ac1c0002row11_col2,#T_91f6557a_5e66_11eb_84b8_0242ac1c0002row12_col2,#T_91f6557a_5e66_11eb_84b8_0242ac1c0002row13_col2,#T_91f6557a_5e66_11eb_84b8_0242ac1c0002row14_col2,#T_91f6557a_5e66_11eb_84b8_0242ac1c0002row15_col2,#T_91f6557a_5e66_11eb_84b8_0242ac1c0002row16_col2,#T_91f6557a_5e66_11eb_84b8_0242ac1c0002row17_col2,#T_91f6557a_5e66_11eb_84b8_0242ac1c0002row18_col2,#T_91f6557a_5e66_11eb_84b8_0242ac1c0002row19_col2,#T_91f6557a_5e66_11eb_84b8_0242ac1c0002row20_col2,#T_91f6557a_5e66_11eb_84b8_0242ac1c0002row21_col2,#T_91f6557a_5e66_11eb_84b8_0242ac1c0002row22_col2{\n",
       "            width:  850px;\n",
       "        }</style><table id=\"T_91f6557a_5e66_11eb_84b8_0242ac1c0002\" ><thead>    <tr>        <th class=\"blank level0\" ></th>        <th class=\"col_heading level0 col0\" >#</th>        <th class=\"col_heading level0 col1\" >Fields</th>        <th class=\"col_heading level0 col2\" >Description</th>    </tr></thead><tbody>\n",
       "                <tr>\n",
       "                        <th id=\"T_91f6557a_5e66_11eb_84b8_0242ac1c0002level0_row0\" class=\"row_heading level0 row0\" >0</th>\n",
       "                        <td id=\"T_91f6557a_5e66_11eb_84b8_0242ac1c0002row0_col0\" class=\"data row0 col0\" >1</td>\n",
       "                        <td id=\"T_91f6557a_5e66_11eb_84b8_0242ac1c0002row0_col1\" class=\"data row0 col1\" > cid</td>\n",
       "                        <td id=\"T_91f6557a_5e66_11eb_84b8_0242ac1c0002row0_col2\" class=\"data row0 col2\" > a notation for a house</td>\n",
       "            </tr>\n",
       "            <tr>\n",
       "                        <th id=\"T_91f6557a_5e66_11eb_84b8_0242ac1c0002level0_row1\" class=\"row_heading level0 row1\" >1</th>\n",
       "                        <td id=\"T_91f6557a_5e66_11eb_84b8_0242ac1c0002row1_col0\" class=\"data row1 col0\" >2</td>\n",
       "                        <td id=\"T_91f6557a_5e66_11eb_84b8_0242ac1c0002row1_col1\" class=\"data row1 col1\" > dayhours</td>\n",
       "                        <td id=\"T_91f6557a_5e66_11eb_84b8_0242ac1c0002row1_col2\" class=\"data row1 col2\" > Date house was sold</td>\n",
       "            </tr>\n",
       "            <tr>\n",
       "                        <th id=\"T_91f6557a_5e66_11eb_84b8_0242ac1c0002level0_row2\" class=\"row_heading level0 row2\" >2</th>\n",
       "                        <td id=\"T_91f6557a_5e66_11eb_84b8_0242ac1c0002row2_col0\" class=\"data row2 col0\" >3</td>\n",
       "                        <td id=\"T_91f6557a_5e66_11eb_84b8_0242ac1c0002row2_col1\" class=\"data row2 col1\" > price</td>\n",
       "                        <td id=\"T_91f6557a_5e66_11eb_84b8_0242ac1c0002row2_col2\" class=\"data row2 col2\" > Price is prediction target</td>\n",
       "            </tr>\n",
       "            <tr>\n",
       "                        <th id=\"T_91f6557a_5e66_11eb_84b8_0242ac1c0002level0_row3\" class=\"row_heading level0 row3\" >3</th>\n",
       "                        <td id=\"T_91f6557a_5e66_11eb_84b8_0242ac1c0002row3_col0\" class=\"data row3 col0\" >4</td>\n",
       "                        <td id=\"T_91f6557a_5e66_11eb_84b8_0242ac1c0002row3_col1\" class=\"data row3 col1\" > room_bed</td>\n",
       "                        <td id=\"T_91f6557a_5e66_11eb_84b8_0242ac1c0002row3_col2\" class=\"data row3 col2\" > Number of Bedrooms/House</td>\n",
       "            </tr>\n",
       "            <tr>\n",
       "                        <th id=\"T_91f6557a_5e66_11eb_84b8_0242ac1c0002level0_row4\" class=\"row_heading level0 row4\" >4</th>\n",
       "                        <td id=\"T_91f6557a_5e66_11eb_84b8_0242ac1c0002row4_col0\" class=\"data row4 col0\" >5</td>\n",
       "                        <td id=\"T_91f6557a_5e66_11eb_84b8_0242ac1c0002row4_col1\" class=\"data row4 col1\" > room_bath</td>\n",
       "                        <td id=\"T_91f6557a_5e66_11eb_84b8_0242ac1c0002row4_col2\" class=\"data row4 col2\" > Number of bathrooms/bedrooms</td>\n",
       "            </tr>\n",
       "            <tr>\n",
       "                        <th id=\"T_91f6557a_5e66_11eb_84b8_0242ac1c0002level0_row5\" class=\"row_heading level0 row5\" >5</th>\n",
       "                        <td id=\"T_91f6557a_5e66_11eb_84b8_0242ac1c0002row5_col0\" class=\"data row5 col0\" >6</td>\n",
       "                        <td id=\"T_91f6557a_5e66_11eb_84b8_0242ac1c0002row5_col1\" class=\"data row5 col1\" > living_measure</td>\n",
       "                        <td id=\"T_91f6557a_5e66_11eb_84b8_0242ac1c0002row5_col2\" class=\"data row5 col2\" > square footage of the home</td>\n",
       "            </tr>\n",
       "            <tr>\n",
       "                        <th id=\"T_91f6557a_5e66_11eb_84b8_0242ac1c0002level0_row6\" class=\"row_heading level0 row6\" >6</th>\n",
       "                        <td id=\"T_91f6557a_5e66_11eb_84b8_0242ac1c0002row6_col0\" class=\"data row6 col0\" >7</td>\n",
       "                        <td id=\"T_91f6557a_5e66_11eb_84b8_0242ac1c0002row6_col1\" class=\"data row6 col1\" > lot_measure</td>\n",
       "                        <td id=\"T_91f6557a_5e66_11eb_84b8_0242ac1c0002row6_col2\" class=\"data row6 col2\" > quare footage of the lot</td>\n",
       "            </tr>\n",
       "            <tr>\n",
       "                        <th id=\"T_91f6557a_5e66_11eb_84b8_0242ac1c0002level0_row7\" class=\"row_heading level0 row7\" >7</th>\n",
       "                        <td id=\"T_91f6557a_5e66_11eb_84b8_0242ac1c0002row7_col0\" class=\"data row7 col0\" >8</td>\n",
       "                        <td id=\"T_91f6557a_5e66_11eb_84b8_0242ac1c0002row7_col1\" class=\"data row7 col1\" > ceil</td>\n",
       "                        <td id=\"T_91f6557a_5e66_11eb_84b8_0242ac1c0002row7_col2\" class=\"data row7 col2\" > Total floors (levels) in house</td>\n",
       "            </tr>\n",
       "            <tr>\n",
       "                        <th id=\"T_91f6557a_5e66_11eb_84b8_0242ac1c0002level0_row8\" class=\"row_heading level0 row8\" >8</th>\n",
       "                        <td id=\"T_91f6557a_5e66_11eb_84b8_0242ac1c0002row8_col0\" class=\"data row8 col0\" >9</td>\n",
       "                        <td id=\"T_91f6557a_5e66_11eb_84b8_0242ac1c0002row8_col1\" class=\"data row8 col1\" > coast</td>\n",
       "                        <td id=\"T_91f6557a_5e66_11eb_84b8_0242ac1c0002row8_col2\" class=\"data row8 col2\" > House which has a view to a waterfront</td>\n",
       "            </tr>\n",
       "            <tr>\n",
       "                        <th id=\"T_91f6557a_5e66_11eb_84b8_0242ac1c0002level0_row9\" class=\"row_heading level0 row9\" >9</th>\n",
       "                        <td id=\"T_91f6557a_5e66_11eb_84b8_0242ac1c0002row9_col0\" class=\"data row9 col0\" >10</td>\n",
       "                        <td id=\"T_91f6557a_5e66_11eb_84b8_0242ac1c0002row9_col1\" class=\"data row9 col1\" > sight</td>\n",
       "                        <td id=\"T_91f6557a_5e66_11eb_84b8_0242ac1c0002row9_col2\" class=\"data row9 col2\" > Has been viewed</td>\n",
       "            </tr>\n",
       "            <tr>\n",
       "                        <th id=\"T_91f6557a_5e66_11eb_84b8_0242ac1c0002level0_row10\" class=\"row_heading level0 row10\" >10</th>\n",
       "                        <td id=\"T_91f6557a_5e66_11eb_84b8_0242ac1c0002row10_col0\" class=\"data row10 col0\" >11</td>\n",
       "                        <td id=\"T_91f6557a_5e66_11eb_84b8_0242ac1c0002row10_col1\" class=\"data row10 col1\" > condition</td>\n",
       "                        <td id=\"T_91f6557a_5e66_11eb_84b8_0242ac1c0002row10_col2\" class=\"data row10 col2\" > How good the condition is (Overall)</td>\n",
       "            </tr>\n",
       "            <tr>\n",
       "                        <th id=\"T_91f6557a_5e66_11eb_84b8_0242ac1c0002level0_row11\" class=\"row_heading level0 row11\" >11</th>\n",
       "                        <td id=\"T_91f6557a_5e66_11eb_84b8_0242ac1c0002row11_col0\" class=\"data row11 col0\" >12</td>\n",
       "                        <td id=\"T_91f6557a_5e66_11eb_84b8_0242ac1c0002row11_col1\" class=\"data row11 col1\" > quality</td>\n",
       "                        <td id=\"T_91f6557a_5e66_11eb_84b8_0242ac1c0002row11_col2\" class=\"data row11 col2\" > grade given to the housing unit, based on grading system</td>\n",
       "            </tr>\n",
       "            <tr>\n",
       "                        <th id=\"T_91f6557a_5e66_11eb_84b8_0242ac1c0002level0_row12\" class=\"row_heading level0 row12\" >12</th>\n",
       "                        <td id=\"T_91f6557a_5e66_11eb_84b8_0242ac1c0002row12_col0\" class=\"data row12 col0\" >13</td>\n",
       "                        <td id=\"T_91f6557a_5e66_11eb_84b8_0242ac1c0002row12_col1\" class=\"data row12 col1\" > ceil_measure</td>\n",
       "                        <td id=\"T_91f6557a_5e66_11eb_84b8_0242ac1c0002row12_col2\" class=\"data row12 col2\" > square footage of house apart from basement</td>\n",
       "            </tr>\n",
       "            <tr>\n",
       "                        <th id=\"T_91f6557a_5e66_11eb_84b8_0242ac1c0002level0_row13\" class=\"row_heading level0 row13\" >13</th>\n",
       "                        <td id=\"T_91f6557a_5e66_11eb_84b8_0242ac1c0002row13_col0\" class=\"data row13 col0\" >14</td>\n",
       "                        <td id=\"T_91f6557a_5e66_11eb_84b8_0242ac1c0002row13_col1\" class=\"data row13 col1\" > basement_measure</td>\n",
       "                        <td id=\"T_91f6557a_5e66_11eb_84b8_0242ac1c0002row13_col2\" class=\"data row13 col2\" > square footage of the basement</td>\n",
       "            </tr>\n",
       "            <tr>\n",
       "                        <th id=\"T_91f6557a_5e66_11eb_84b8_0242ac1c0002level0_row14\" class=\"row_heading level0 row14\" >14</th>\n",
       "                        <td id=\"T_91f6557a_5e66_11eb_84b8_0242ac1c0002row14_col0\" class=\"data row14 col0\" >15</td>\n",
       "                        <td id=\"T_91f6557a_5e66_11eb_84b8_0242ac1c0002row14_col1\" class=\"data row14 col1\" > yr_built</td>\n",
       "                        <td id=\"T_91f6557a_5e66_11eb_84b8_0242ac1c0002row14_col2\" class=\"data row14 col2\" > Built Year</td>\n",
       "            </tr>\n",
       "            <tr>\n",
       "                        <th id=\"T_91f6557a_5e66_11eb_84b8_0242ac1c0002level0_row15\" class=\"row_heading level0 row15\" >15</th>\n",
       "                        <td id=\"T_91f6557a_5e66_11eb_84b8_0242ac1c0002row15_col0\" class=\"data row15 col0\" >16</td>\n",
       "                        <td id=\"T_91f6557a_5e66_11eb_84b8_0242ac1c0002row15_col1\" class=\"data row15 col1\" > yr_renovated</td>\n",
       "                        <td id=\"T_91f6557a_5e66_11eb_84b8_0242ac1c0002row15_col2\" class=\"data row15 col2\" > Year when house was renovated</td>\n",
       "            </tr>\n",
       "            <tr>\n",
       "                        <th id=\"T_91f6557a_5e66_11eb_84b8_0242ac1c0002level0_row16\" class=\"row_heading level0 row16\" >16</th>\n",
       "                        <td id=\"T_91f6557a_5e66_11eb_84b8_0242ac1c0002row16_col0\" class=\"data row16 col0\" >17</td>\n",
       "                        <td id=\"T_91f6557a_5e66_11eb_84b8_0242ac1c0002row16_col1\" class=\"data row16 col1\" > zipcode</td>\n",
       "                        <td id=\"T_91f6557a_5e66_11eb_84b8_0242ac1c0002row16_col2\" class=\"data row16 col2\" > zip</td>\n",
       "            </tr>\n",
       "            <tr>\n",
       "                        <th id=\"T_91f6557a_5e66_11eb_84b8_0242ac1c0002level0_row17\" class=\"row_heading level0 row17\" >17</th>\n",
       "                        <td id=\"T_91f6557a_5e66_11eb_84b8_0242ac1c0002row17_col0\" class=\"data row17 col0\" >18</td>\n",
       "                        <td id=\"T_91f6557a_5e66_11eb_84b8_0242ac1c0002row17_col1\" class=\"data row17 col1\" > lat</td>\n",
       "                        <td id=\"T_91f6557a_5e66_11eb_84b8_0242ac1c0002row17_col2\" class=\"data row17 col2\" > Latitude coordinate</td>\n",
       "            </tr>\n",
       "            <tr>\n",
       "                        <th id=\"T_91f6557a_5e66_11eb_84b8_0242ac1c0002level0_row18\" class=\"row_heading level0 row18\" >18</th>\n",
       "                        <td id=\"T_91f6557a_5e66_11eb_84b8_0242ac1c0002row18_col0\" class=\"data row18 col0\" >19</td>\n",
       "                        <td id=\"T_91f6557a_5e66_11eb_84b8_0242ac1c0002row18_col1\" class=\"data row18 col1\" > long</td>\n",
       "                        <td id=\"T_91f6557a_5e66_11eb_84b8_0242ac1c0002row18_col2\" class=\"data row18 col2\" > Longitude coordinate</td>\n",
       "            </tr>\n",
       "            <tr>\n",
       "                        <th id=\"T_91f6557a_5e66_11eb_84b8_0242ac1c0002level0_row19\" class=\"row_heading level0 row19\" >19</th>\n",
       "                        <td id=\"T_91f6557a_5e66_11eb_84b8_0242ac1c0002row19_col0\" class=\"data row19 col0\" >20</td>\n",
       "                        <td id=\"T_91f6557a_5e66_11eb_84b8_0242ac1c0002row19_col1\" class=\"data row19 col1\" > living_measure15</td>\n",
       "                        <td id=\"T_91f6557a_5e66_11eb_84b8_0242ac1c0002row19_col2\" class=\"data row19 col2\" > Living room area in 2015(implies-- some renovations) This might or might not have affected the lotsize area</td>\n",
       "            </tr>\n",
       "            <tr>\n",
       "                        <th id=\"T_91f6557a_5e66_11eb_84b8_0242ac1c0002level0_row20\" class=\"row_heading level0 row20\" >20</th>\n",
       "                        <td id=\"T_91f6557a_5e66_11eb_84b8_0242ac1c0002row20_col0\" class=\"data row20 col0\" >21</td>\n",
       "                        <td id=\"T_91f6557a_5e66_11eb_84b8_0242ac1c0002row20_col1\" class=\"data row20 col1\" > lot_measure15</td>\n",
       "                        <td id=\"T_91f6557a_5e66_11eb_84b8_0242ac1c0002row20_col2\" class=\"data row20 col2\" > lotSize area in 2015(implies-- some renovations)</td>\n",
       "            </tr>\n",
       "            <tr>\n",
       "                        <th id=\"T_91f6557a_5e66_11eb_84b8_0242ac1c0002level0_row21\" class=\"row_heading level0 row21\" >21</th>\n",
       "                        <td id=\"T_91f6557a_5e66_11eb_84b8_0242ac1c0002row21_col0\" class=\"data row21 col0\" >22</td>\n",
       "                        <td id=\"T_91f6557a_5e66_11eb_84b8_0242ac1c0002row21_col1\" class=\"data row21 col1\" > furnished</td>\n",
       "                        <td id=\"T_91f6557a_5e66_11eb_84b8_0242ac1c0002row21_col2\" class=\"data row21 col2\" > Based on the quality of room</td>\n",
       "            </tr>\n",
       "            <tr>\n",
       "                        <th id=\"T_91f6557a_5e66_11eb_84b8_0242ac1c0002level0_row22\" class=\"row_heading level0 row22\" >22</th>\n",
       "                        <td id=\"T_91f6557a_5e66_11eb_84b8_0242ac1c0002row22_col0\" class=\"data row22 col0\" >23</td>\n",
       "                        <td id=\"T_91f6557a_5e66_11eb_84b8_0242ac1c0002row22_col1\" class=\"data row22 col1\" > total_area</td>\n",
       "                        <td id=\"T_91f6557a_5e66_11eb_84b8_0242ac1c0002row22_col2\" class=\"data row22 col2\" >Measure of both living and lot</td>\n",
       "            </tr>\n",
       "    </tbody></table>"
      ],
      "text/plain": [
       "<pandas.io.formats.style.Styler at 0x7efe18488a20>"
      ]
     },
     "execution_count": 3,
     "metadata": {
      "tags": []
     },
     "output_type": "execute_result"
    }
   ],
   "source": [
    "description = pd.read_excel('C:/Users/HP/Desktop/House Price/House price Data Dictionary.xlsx').dropna()\n",
    "description.style.set_properties(subset=['Description'], **{'width' :'850px'})"
   ]
  },
  {
   "cell_type": "code",
   "execution_count": 4,
   "metadata": {
    "colab": {
     "base_uri": "https://localhost:8080/",
     "height": 762
    },
    "id": "AfrQoEdIk91T",
    "outputId": "db934225-9045-42b1-9cf1-eaaf10bdca2e"
   },
   "outputs": [
    {
     "data": {
      "text/html": [
       "<div>\n",
       "<style scoped>\n",
       "    .dataframe tbody tr th:only-of-type {\n",
       "        vertical-align: middle;\n",
       "    }\n",
       "\n",
       "    .dataframe tbody tr th {\n",
       "        vertical-align: top;\n",
       "    }\n",
       "\n",
       "    .dataframe thead th {\n",
       "        text-align: right;\n",
       "    }\n",
       "</style>\n",
       "<table border=\"1\" class=\"dataframe\">\n",
       "  <thead>\n",
       "    <tr style=\"text-align: right;\">\n",
       "      <th></th>\n",
       "      <th>0</th>\n",
       "      <th>1</th>\n",
       "      <th>2</th>\n",
       "      <th>3</th>\n",
       "      <th>4</th>\n",
       "    </tr>\n",
       "  </thead>\n",
       "  <tbody>\n",
       "    <tr>\n",
       "      <th>cid</th>\n",
       "      <td>3876100940</td>\n",
       "      <td>3145600250</td>\n",
       "      <td>7129303070</td>\n",
       "      <td>7338220280</td>\n",
       "      <td>7950300670</td>\n",
       "    </tr>\n",
       "    <tr>\n",
       "      <th>dayhours</th>\n",
       "      <td>20150427T000000</td>\n",
       "      <td>20150317T000000</td>\n",
       "      <td>20140820T000000</td>\n",
       "      <td>20141010T000000</td>\n",
       "      <td>20150218T000000</td>\n",
       "    </tr>\n",
       "    <tr>\n",
       "      <th>price</th>\n",
       "      <td>600000</td>\n",
       "      <td>190000</td>\n",
       "      <td>735000</td>\n",
       "      <td>257000</td>\n",
       "      <td>450000</td>\n",
       "    </tr>\n",
       "    <tr>\n",
       "      <th>room_bed</th>\n",
       "      <td>4</td>\n",
       "      <td>2</td>\n",
       "      <td>4</td>\n",
       "      <td>3</td>\n",
       "      <td>2</td>\n",
       "    </tr>\n",
       "    <tr>\n",
       "      <th>room_bath</th>\n",
       "      <td>1.75</td>\n",
       "      <td>1</td>\n",
       "      <td>2.75</td>\n",
       "      <td>2.5</td>\n",
       "      <td>1</td>\n",
       "    </tr>\n",
       "    <tr>\n",
       "      <th>living_measure</th>\n",
       "      <td>3050</td>\n",
       "      <td>670</td>\n",
       "      <td>3040</td>\n",
       "      <td>1740</td>\n",
       "      <td>1120</td>\n",
       "    </tr>\n",
       "    <tr>\n",
       "      <th>lot_measure</th>\n",
       "      <td>9440</td>\n",
       "      <td>3101</td>\n",
       "      <td>2415</td>\n",
       "      <td>3721</td>\n",
       "      <td>4590</td>\n",
       "    </tr>\n",
       "    <tr>\n",
       "      <th>ceil</th>\n",
       "      <td>1</td>\n",
       "      <td>1</td>\n",
       "      <td>2</td>\n",
       "      <td>2</td>\n",
       "      <td>1</td>\n",
       "    </tr>\n",
       "    <tr>\n",
       "      <th>coast</th>\n",
       "      <td>0</td>\n",
       "      <td>0</td>\n",
       "      <td>1</td>\n",
       "      <td>0</td>\n",
       "      <td>0</td>\n",
       "    </tr>\n",
       "    <tr>\n",
       "      <th>sight</th>\n",
       "      <td>0</td>\n",
       "      <td>0</td>\n",
       "      <td>4</td>\n",
       "      <td>0</td>\n",
       "      <td>0</td>\n",
       "    </tr>\n",
       "    <tr>\n",
       "      <th>condition</th>\n",
       "      <td>3</td>\n",
       "      <td>4</td>\n",
       "      <td>3</td>\n",
       "      <td>3</td>\n",
       "      <td>3</td>\n",
       "    </tr>\n",
       "    <tr>\n",
       "      <th>quality</th>\n",
       "      <td>8</td>\n",
       "      <td>6</td>\n",
       "      <td>8</td>\n",
       "      <td>8</td>\n",
       "      <td>7</td>\n",
       "    </tr>\n",
       "    <tr>\n",
       "      <th>ceil_measure</th>\n",
       "      <td>1800</td>\n",
       "      <td>670</td>\n",
       "      <td>3040</td>\n",
       "      <td>1740</td>\n",
       "      <td>1120</td>\n",
       "    </tr>\n",
       "    <tr>\n",
       "      <th>basement</th>\n",
       "      <td>1250</td>\n",
       "      <td>0</td>\n",
       "      <td>0</td>\n",
       "      <td>0</td>\n",
       "      <td>0</td>\n",
       "    </tr>\n",
       "    <tr>\n",
       "      <th>yr_built</th>\n",
       "      <td>1966</td>\n",
       "      <td>1948</td>\n",
       "      <td>1966</td>\n",
       "      <td>2009</td>\n",
       "      <td>1924</td>\n",
       "    </tr>\n",
       "    <tr>\n",
       "      <th>yr_renovated</th>\n",
       "      <td>0</td>\n",
       "      <td>0</td>\n",
       "      <td>0</td>\n",
       "      <td>0</td>\n",
       "      <td>0</td>\n",
       "    </tr>\n",
       "    <tr>\n",
       "      <th>zipcode</th>\n",
       "      <td>98034</td>\n",
       "      <td>98118</td>\n",
       "      <td>98118</td>\n",
       "      <td>98002</td>\n",
       "      <td>98118</td>\n",
       "    </tr>\n",
       "    <tr>\n",
       "      <th>lat</th>\n",
       "      <td>47.7228</td>\n",
       "      <td>47.5546</td>\n",
       "      <td>47.5188</td>\n",
       "      <td>47.3363</td>\n",
       "      <td>47.5663</td>\n",
       "    </tr>\n",
       "    <tr>\n",
       "      <th>long</th>\n",
       "      <td>-122.183</td>\n",
       "      <td>-122.274</td>\n",
       "      <td>-122.256</td>\n",
       "      <td>-122.213</td>\n",
       "      <td>-122.285</td>\n",
       "    </tr>\n",
       "    <tr>\n",
       "      <th>living_measure15</th>\n",
       "      <td>2020</td>\n",
       "      <td>1660</td>\n",
       "      <td>2620</td>\n",
       "      <td>2030</td>\n",
       "      <td>1120</td>\n",
       "    </tr>\n",
       "    <tr>\n",
       "      <th>lot_measure15</th>\n",
       "      <td>8660</td>\n",
       "      <td>4100</td>\n",
       "      <td>2433</td>\n",
       "      <td>3794</td>\n",
       "      <td>5100</td>\n",
       "    </tr>\n",
       "    <tr>\n",
       "      <th>furnished</th>\n",
       "      <td>0</td>\n",
       "      <td>0</td>\n",
       "      <td>0</td>\n",
       "      <td>0</td>\n",
       "      <td>0</td>\n",
       "    </tr>\n",
       "    <tr>\n",
       "      <th>total_area</th>\n",
       "      <td>12490</td>\n",
       "      <td>3771</td>\n",
       "      <td>5455</td>\n",
       "      <td>5461</td>\n",
       "      <td>5710</td>\n",
       "    </tr>\n",
       "  </tbody>\n",
       "</table>\n",
       "</div>"
      ],
      "text/plain": [
       "                                0  ...                4\n",
       "cid                    3876100940  ...       7950300670\n",
       "dayhours          20150427T000000  ...  20150218T000000\n",
       "price                      600000  ...           450000\n",
       "room_bed                        4  ...                2\n",
       "room_bath                    1.75  ...                1\n",
       "living_measure               3050  ...             1120\n",
       "lot_measure                  9440  ...             4590\n",
       "ceil                            1  ...                1\n",
       "coast                           0  ...                0\n",
       "sight                           0  ...                0\n",
       "condition                       3  ...                3\n",
       "quality                         8  ...                7\n",
       "ceil_measure                 1800  ...             1120\n",
       "basement                     1250  ...                0\n",
       "yr_built                     1966  ...             1924\n",
       "yr_renovated                    0  ...                0\n",
       "zipcode                     98034  ...            98118\n",
       "lat                       47.7228  ...          47.5663\n",
       "long                     -122.183  ...         -122.285\n",
       "living_measure15             2020  ...             1120\n",
       "lot_measure15                8660  ...             5100\n",
       "furnished                       0  ...                0\n",
       "total_area                  12490  ...             5710\n",
       "\n",
       "[23 rows x 5 columns]"
      ]
     },
     "execution_count": 4,
     "metadata": {
      "tags": []
     },
     "output_type": "execute_result"
    }
   ],
   "source": [
    "Data = pd.read_csv('C:/Users/HP/Desktop/House Price/House price dataset.csv')\n",
    "Data.head(5).T"
   ]
  },
  {
   "cell_type": "markdown",
   "metadata": {
    "id": "hbmvN7WPltJ2"
   },
   "source": [
    "### understanding the data "
   ]
  },
  {
   "cell_type": "code",
   "execution_count": 5,
   "metadata": {
    "colab": {
     "base_uri": "https://localhost:8080/",
     "height": 1000
    },
    "id": "R0MiAhxak9yQ",
    "outputId": "1f14bb50-ea98-4f2a-cf66-f9f10e6a41d7"
   },
   "outputs": [
    {
     "name": "stdout",
     "output_type": "stream",
     "text": [
      "<class 'pandas.core.frame.DataFrame'>\n",
      "RangeIndex: 21613 entries, 0 to 21612\n",
      "Data columns (total 23 columns):\n",
      " #   Column            Non-Null Count  Dtype  \n",
      "---  ------            --------------  -----  \n",
      " 0   cid               21613 non-null  int64  \n",
      " 1   dayhours          21613 non-null  object \n",
      " 2   price             21613 non-null  int64  \n",
      " 3   room_bed          21505 non-null  float64\n",
      " 4   room_bath         21505 non-null  float64\n",
      " 5   living_measure    21596 non-null  float64\n",
      " 6   lot_measure       21571 non-null  float64\n",
      " 7   ceil              21571 non-null  object \n",
      " 8   coast             21612 non-null  object \n",
      " 9   sight             21556 non-null  float64\n",
      " 10  condition         21556 non-null  object \n",
      " 11  quality           21612 non-null  float64\n",
      " 12  ceil_measure      21612 non-null  float64\n",
      " 13  basement          21612 non-null  float64\n",
      " 14  yr_built          21612 non-null  object \n",
      " 15  yr_renovated      21613 non-null  int64  \n",
      " 16  zipcode           21613 non-null  int64  \n",
      " 17  lat               21613 non-null  float64\n",
      " 18  long              21613 non-null  object \n",
      " 19  living_measure15  21447 non-null  float64\n",
      " 20  lot_measure15     21584 non-null  float64\n",
      " 21  furnished         21584 non-null  float64\n",
      " 22  total_area        21584 non-null  object \n",
      "dtypes: float64(12), int64(4), object(7)\n",
      "memory usage: 3.8+ MB\n"
     ]
    },
    {
     "data": {
      "text/html": [
       "<div>\n",
       "<style scoped>\n",
       "    .dataframe tbody tr th:only-of-type {\n",
       "        vertical-align: middle;\n",
       "    }\n",
       "\n",
       "    .dataframe tbody tr th {\n",
       "        vertical-align: top;\n",
       "    }\n",
       "\n",
       "    .dataframe thead th {\n",
       "        text-align: right;\n",
       "    }\n",
       "</style>\n",
       "<table border=\"1\" class=\"dataframe\">\n",
       "  <thead>\n",
       "    <tr style=\"text-align: right;\">\n",
       "      <th></th>\n",
       "      <th>count</th>\n",
       "      <th>mean</th>\n",
       "      <th>std</th>\n",
       "      <th>min</th>\n",
       "      <th>25%</th>\n",
       "      <th>50%</th>\n",
       "      <th>75%</th>\n",
       "      <th>max</th>\n",
       "    </tr>\n",
       "  </thead>\n",
       "  <tbody>\n",
       "    <tr>\n",
       "      <th>cid</th>\n",
       "      <td>21613.0</td>\n",
       "      <td>4.580302e+09</td>\n",
       "      <td>2.876566e+09</td>\n",
       "      <td>1.000102e+06</td>\n",
       "      <td>2.123049e+09</td>\n",
       "      <td>3.904930e+09</td>\n",
       "      <td>7.308900e+09</td>\n",
       "      <td>9.900000e+09</td>\n",
       "    </tr>\n",
       "    <tr>\n",
       "      <th>price</th>\n",
       "      <td>21613.0</td>\n",
       "      <td>5.401822e+05</td>\n",
       "      <td>3.673622e+05</td>\n",
       "      <td>7.500000e+04</td>\n",
       "      <td>3.219500e+05</td>\n",
       "      <td>4.500000e+05</td>\n",
       "      <td>6.450000e+05</td>\n",
       "      <td>7.700000e+06</td>\n",
       "    </tr>\n",
       "    <tr>\n",
       "      <th>room_bed</th>\n",
       "      <td>21505.0</td>\n",
       "      <td>3.371355e+00</td>\n",
       "      <td>9.302886e-01</td>\n",
       "      <td>0.000000e+00</td>\n",
       "      <td>3.000000e+00</td>\n",
       "      <td>3.000000e+00</td>\n",
       "      <td>4.000000e+00</td>\n",
       "      <td>3.300000e+01</td>\n",
       "    </tr>\n",
       "    <tr>\n",
       "      <th>room_bath</th>\n",
       "      <td>21505.0</td>\n",
       "      <td>2.115171e+00</td>\n",
       "      <td>7.702481e-01</td>\n",
       "      <td>0.000000e+00</td>\n",
       "      <td>1.750000e+00</td>\n",
       "      <td>2.250000e+00</td>\n",
       "      <td>2.500000e+00</td>\n",
       "      <td>8.000000e+00</td>\n",
       "    </tr>\n",
       "    <tr>\n",
       "      <th>living_measure</th>\n",
       "      <td>21596.0</td>\n",
       "      <td>2.079861e+03</td>\n",
       "      <td>9.184961e+02</td>\n",
       "      <td>2.900000e+02</td>\n",
       "      <td>1.429250e+03</td>\n",
       "      <td>1.910000e+03</td>\n",
       "      <td>2.550000e+03</td>\n",
       "      <td>1.354000e+04</td>\n",
       "    </tr>\n",
       "    <tr>\n",
       "      <th>lot_measure</th>\n",
       "      <td>21571.0</td>\n",
       "      <td>1.510458e+04</td>\n",
       "      <td>4.142362e+04</td>\n",
       "      <td>5.200000e+02</td>\n",
       "      <td>5.040000e+03</td>\n",
       "      <td>7.618000e+03</td>\n",
       "      <td>1.068450e+04</td>\n",
       "      <td>1.651359e+06</td>\n",
       "    </tr>\n",
       "    <tr>\n",
       "      <th>sight</th>\n",
       "      <td>21556.0</td>\n",
       "      <td>2.343663e-01</td>\n",
       "      <td>7.664376e-01</td>\n",
       "      <td>0.000000e+00</td>\n",
       "      <td>0.000000e+00</td>\n",
       "      <td>0.000000e+00</td>\n",
       "      <td>0.000000e+00</td>\n",
       "      <td>4.000000e+00</td>\n",
       "    </tr>\n",
       "    <tr>\n",
       "      <th>quality</th>\n",
       "      <td>21612.0</td>\n",
       "      <td>7.656857e+00</td>\n",
       "      <td>1.175484e+00</td>\n",
       "      <td>1.000000e+00</td>\n",
       "      <td>7.000000e+00</td>\n",
       "      <td>7.000000e+00</td>\n",
       "      <td>8.000000e+00</td>\n",
       "      <td>1.300000e+01</td>\n",
       "    </tr>\n",
       "    <tr>\n",
       "      <th>ceil_measure</th>\n",
       "      <td>21612.0</td>\n",
       "      <td>1.788367e+03</td>\n",
       "      <td>8.281025e+02</td>\n",
       "      <td>2.900000e+02</td>\n",
       "      <td>1.190000e+03</td>\n",
       "      <td>1.560000e+03</td>\n",
       "      <td>2.210000e+03</td>\n",
       "      <td>9.410000e+03</td>\n",
       "    </tr>\n",
       "    <tr>\n",
       "      <th>basement</th>\n",
       "      <td>21612.0</td>\n",
       "      <td>2.915225e+02</td>\n",
       "      <td>4.425808e+02</td>\n",
       "      <td>0.000000e+00</td>\n",
       "      <td>0.000000e+00</td>\n",
       "      <td>0.000000e+00</td>\n",
       "      <td>5.600000e+02</td>\n",
       "      <td>4.820000e+03</td>\n",
       "    </tr>\n",
       "    <tr>\n",
       "      <th>yr_renovated</th>\n",
       "      <td>21613.0</td>\n",
       "      <td>8.440226e+01</td>\n",
       "      <td>4.016792e+02</td>\n",
       "      <td>0.000000e+00</td>\n",
       "      <td>0.000000e+00</td>\n",
       "      <td>0.000000e+00</td>\n",
       "      <td>0.000000e+00</td>\n",
       "      <td>2.015000e+03</td>\n",
       "    </tr>\n",
       "    <tr>\n",
       "      <th>zipcode</th>\n",
       "      <td>21613.0</td>\n",
       "      <td>9.807794e+04</td>\n",
       "      <td>5.350503e+01</td>\n",
       "      <td>9.800100e+04</td>\n",
       "      <td>9.803300e+04</td>\n",
       "      <td>9.806500e+04</td>\n",
       "      <td>9.811800e+04</td>\n",
       "      <td>9.819900e+04</td>\n",
       "    </tr>\n",
       "    <tr>\n",
       "      <th>lat</th>\n",
       "      <td>21613.0</td>\n",
       "      <td>4.756005e+01</td>\n",
       "      <td>1.385637e-01</td>\n",
       "      <td>4.715590e+01</td>\n",
       "      <td>4.747100e+01</td>\n",
       "      <td>4.757180e+01</td>\n",
       "      <td>4.767800e+01</td>\n",
       "      <td>4.777760e+01</td>\n",
       "    </tr>\n",
       "    <tr>\n",
       "      <th>living_measure15</th>\n",
       "      <td>21447.0</td>\n",
       "      <td>1.987066e+03</td>\n",
       "      <td>6.855196e+02</td>\n",
       "      <td>3.990000e+02</td>\n",
       "      <td>1.490000e+03</td>\n",
       "      <td>1.840000e+03</td>\n",
       "      <td>2.360000e+03</td>\n",
       "      <td>6.210000e+03</td>\n",
       "    </tr>\n",
       "    <tr>\n",
       "      <th>lot_measure15</th>\n",
       "      <td>21584.0</td>\n",
       "      <td>1.276654e+04</td>\n",
       "      <td>2.728699e+04</td>\n",
       "      <td>6.510000e+02</td>\n",
       "      <td>5.100000e+03</td>\n",
       "      <td>7.620000e+03</td>\n",
       "      <td>1.008700e+04</td>\n",
       "      <td>8.712000e+05</td>\n",
       "    </tr>\n",
       "    <tr>\n",
       "      <th>furnished</th>\n",
       "      <td>21584.0</td>\n",
       "      <td>1.967198e-01</td>\n",
       "      <td>3.975279e-01</td>\n",
       "      <td>0.000000e+00</td>\n",
       "      <td>0.000000e+00</td>\n",
       "      <td>0.000000e+00</td>\n",
       "      <td>0.000000e+00</td>\n",
       "      <td>1.000000e+00</td>\n",
       "    </tr>\n",
       "  </tbody>\n",
       "</table>\n",
       "</div>"
      ],
      "text/plain": [
       "                    count          mean  ...           75%           max\n",
       "cid               21613.0  4.580302e+09  ...  7.308900e+09  9.900000e+09\n",
       "price             21613.0  5.401822e+05  ...  6.450000e+05  7.700000e+06\n",
       "room_bed          21505.0  3.371355e+00  ...  4.000000e+00  3.300000e+01\n",
       "room_bath         21505.0  2.115171e+00  ...  2.500000e+00  8.000000e+00\n",
       "living_measure    21596.0  2.079861e+03  ...  2.550000e+03  1.354000e+04\n",
       "lot_measure       21571.0  1.510458e+04  ...  1.068450e+04  1.651359e+06\n",
       "sight             21556.0  2.343663e-01  ...  0.000000e+00  4.000000e+00\n",
       "quality           21612.0  7.656857e+00  ...  8.000000e+00  1.300000e+01\n",
       "ceil_measure      21612.0  1.788367e+03  ...  2.210000e+03  9.410000e+03\n",
       "basement          21612.0  2.915225e+02  ...  5.600000e+02  4.820000e+03\n",
       "yr_renovated      21613.0  8.440226e+01  ...  0.000000e+00  2.015000e+03\n",
       "zipcode           21613.0  9.807794e+04  ...  9.811800e+04  9.819900e+04\n",
       "lat               21613.0  4.756005e+01  ...  4.767800e+01  4.777760e+01\n",
       "living_measure15  21447.0  1.987066e+03  ...  2.360000e+03  6.210000e+03\n",
       "lot_measure15     21584.0  1.276654e+04  ...  1.008700e+04  8.712000e+05\n",
       "furnished         21584.0  1.967198e-01  ...  0.000000e+00  1.000000e+00\n",
       "\n",
       "[16 rows x 8 columns]"
      ]
     },
     "execution_count": 5,
     "metadata": {
      "tags": []
     },
     "output_type": "execute_result"
    }
   ],
   "source": [
    "Data.info()\n",
    "Data.describe().transpose()"
   ]
  },
  {
   "cell_type": "code",
   "execution_count": 6,
   "metadata": {
    "colab": {
     "base_uri": "https://localhost:8080/"
    },
    "id": "ccIvzTckzPOb",
    "outputId": "8067687e-588e-41f9-dd2f-2ff610a4d84f"
   },
   "outputs": [
    {
     "data": {
      "text/plain": [
       "zipcode            -0.053168\n",
       "cid                -0.016797\n",
       "lot_measure15       0.082603\n",
       "lot_measure         0.089733\n",
       "yr_renovated        0.126442\n",
       "lat                 0.306919\n",
       "room_bed            0.308040\n",
       "basement            0.323825\n",
       "sight               0.397522\n",
       "room_bath           0.525179\n",
       "furnished           0.566040\n",
       "living_measure15    0.585186\n",
       "ceil_measure        0.605593\n",
       "quality             0.667477\n",
       "living_measure      0.702149\n",
       "price               1.000000\n",
       "Name: price, dtype: float64"
      ]
     },
     "execution_count": 6,
     "metadata": {
      "tags": []
     },
     "output_type": "execute_result"
    }
   ],
   "source": [
    "Data.corr()['price'].sort_values()"
   ]
  },
  {
   "cell_type": "code",
   "execution_count": 7,
   "metadata": {
    "colab": {
     "base_uri": "https://localhost:8080/",
     "height": 32
    },
    "id": "4zLBAf2PHnT4",
    "outputId": "33b6c03b-3985-452e-8c14-94a2bfe9559b"
   },
   "outputs": [
    {
     "data": {
      "text/html": [
       "<div>\n",
       "<style scoped>\n",
       "    .dataframe tbody tr th:only-of-type {\n",
       "        vertical-align: middle;\n",
       "    }\n",
       "\n",
       "    .dataframe tbody tr th {\n",
       "        vertical-align: top;\n",
       "    }\n",
       "\n",
       "    .dataframe thead th {\n",
       "        text-align: right;\n",
       "    }\n",
       "</style>\n",
       "<table border=\"1\" class=\"dataframe\">\n",
       "  <thead>\n",
       "    <tr style=\"text-align: right;\">\n",
       "      <th></th>\n",
       "    </tr>\n",
       "  </thead>\n",
       "  <tbody>\n",
       "  </tbody>\n",
       "</table>\n",
       "</div>"
      ],
      "text/plain": [
       "Empty DataFrame\n",
       "Columns: []\n",
       "Index: []"
      ]
     },
     "execution_count": 7,
     "metadata": {
      "tags": []
     },
     "output_type": "execute_result"
    }
   ],
   "source": [
    "non_digit = pd.DataFrame()\n",
    "for i in Data.yr_built:\n",
    "  if i == '$':\n",
    "    non_digit.append(DataFrame(data=[i.index]))\n",
    "\n",
    "non_digit"
   ]
  },
  {
   "cell_type": "code",
   "execution_count": 8,
   "metadata": {
    "id": "R9eoci9AGeL5"
   },
   "outputs": [],
   "source": [
    "Data = Data.replace(to_replace='$',value=np.NaN)"
   ]
  },
  {
   "cell_type": "code",
   "execution_count": null,
   "metadata": {
    "id": "k8my3AqSl-Zw"
   },
   "outputs": [],
   "source": [
    "#Let’s plot couple of features to get a better feel of the data\n",
    "##Visualizing house prices"
   ]
  },
  {
   "cell_type": "code",
   "execution_count": 9,
   "metadata": {
    "colab": {
     "base_uri": "https://localhost:8080/",
     "height": 601
    },
    "id": "ZV3t10Bqk9ve",
    "outputId": "26656d7f-5bb6-4ec2-9f9e-33bff9269a37"
   },
   "outputs": [
    {
     "name": "stderr",
     "output_type": "stream",
     "text": [
      "/usr/local/lib/python3.6/dist-packages/seaborn/distributions.py:2557: FutureWarning: `distplot` is a deprecated function and will be removed in a future version. Please adapt your code to use either `displot` (a figure-level function with similar flexibility) or `histplot` (an axes-level function for histograms).\n",
      "  warnings.warn(msg, FutureWarning)\n",
      "/usr/local/lib/python3.6/dist-packages/seaborn/_decorators.py:43: FutureWarning: Pass the following variable as a keyword arg: x. From version 0.12, the only valid positional argument will be `data`, and passing other arguments without an explicit keyword will result in an error or misinterpretation.\n",
      "  FutureWarning\n"
     ]
    },
    {
     "data": {
      "image/png": "[encoded data removed]",
      "text/plain": [
       "<Figure size 720x504 with 2 Axes>"
      ]
     },
     "metadata": {
      "needs_background": "light",
      "tags": []
     },
     "output_type": "display_data"
    }
   ],
   "source": [
    "fig = plt.figure(figsize=(10,7))\n",
    "fig.add_subplot(2,1,1)\n",
    "sns.distplot(Data['price'])\n",
    "fig.add_subplot(2,1,2)\n",
    "sns.boxplot(Data['price'])\n",
    "plt.tight_layout()"
   ]
  },
  {
   "cell_type": "markdown",
   "metadata": {
    "id": "vI8xEp9PmSF-"
   },
   "source": [
    "### Visualizing square footage of (home,lot,above and basement)"
   ]
  },
  {
   "cell_type": "code",
   "execution_count": 10,
   "metadata": {
    "colab": {
     "base_uri": "https://localhost:8080/",
     "height": 519
    },
    "id": "Ouv5rHosmXCz",
    "outputId": "4c818e72-b3e4-441e-e4bd-44eea0b35617"
   },
   "outputs": [
    {
     "name": "stderr",
     "output_type": "stream",
     "text": [
      "/usr/local/lib/python3.6/dist-packages/seaborn/_decorators.py:43: FutureWarning: Pass the following variables as keyword args: x, y. From version 0.12, the only valid positional argument will be `data`, and passing other arguments without an explicit keyword will result in an error or misinterpretation.\n",
      "  FutureWarning\n",
      "/usr/local/lib/python3.6/dist-packages/seaborn/_decorators.py:43: FutureWarning: Pass the following variables as keyword args: x, y. From version 0.12, the only valid positional argument will be `data`, and passing other arguments without an explicit keyword will result in an error or misinterpretation.\n",
      "  FutureWarning\n",
      "/usr/local/lib/python3.6/dist-packages/seaborn/_decorators.py:43: FutureWarning: Pass the following variables as keyword args: x, y. From version 0.12, the only valid positional argument will be `data`, and passing other arguments without an explicit keyword will result in an error or misinterpretation.\n",
      "  FutureWarning\n",
      "/usr/local/lib/python3.6/dist-packages/seaborn/_decorators.py:43: FutureWarning: Pass the following variables as keyword args: x, y. From version 0.12, the only valid positional argument will be `data`, and passing other arguments without an explicit keyword will result in an error or misinterpretation.\n",
      "  FutureWarning\n"
     ]
    },
    {
     "data": {
      "text/plain": [
       "<matplotlib.axes._subplots.AxesSubplot at 0x7efe0e54e710>"
      ]
     },
     "execution_count": 10,
     "metadata": {
      "tags": []
     },
     "output_type": "execute_result"
    },
    {
     "data": {
      "image/png": "[encoded data removed]",
      "text/plain": [
       "<Figure size 1152x360 with 4 Axes>"
      ]
     },
     "metadata": {
      "needs_background": "light",
      "tags": []
     },
     "output_type": "display_data"
    }
   ],
   "source": [
    "fig = plt.figure(figsize=(16,5))\n",
    "fig.add_subplot(2,2,1)\n",
    "sns.scatterplot(Data['ceil_measure'], Data['price'])\n",
    "fig.add_subplot(2,2,2)\n",
    "sns.scatterplot(Data['lot_measure'],Data['price'])\n",
    "fig.add_subplot(2,2,3)\n",
    "sns.scatterplot(Data['living_measure'],Data['price'])\n",
    "fig.add_subplot(2,2,4)\n",
    "sns.scatterplot(Data['basement'],Data['price'])"
   ]
  },
  {
   "cell_type": "markdown",
   "metadata": {
    "id": "o8xMIVgWqnqa"
   },
   "source": [
    "It is quit useful to have a quick overview of different features distribution vs house price."
   ]
  },
  {
   "cell_type": "code",
   "execution_count": 11,
   "metadata": {
    "colab": {
     "base_uri": "https://localhost:8080/"
    },
    "id": "0GWR42Ltnayd",
    "outputId": "5ab41ce1-b7e6-40ac-8814-52cf9460efb6"
   },
   "outputs": [
    {
     "data": {
      "text/plain": [
       "Index(['cid', 'dayhours', 'price', 'room_bed', 'room_bath', 'living_measure',\n",
       "       'lot_measure', 'ceil', 'coast', 'sight', 'condition', 'quality',\n",
       "       'ceil_measure', 'basement', 'yr_built', 'yr_renovated', 'zipcode',\n",
       "       'lat', 'long', 'living_measure15', 'lot_measure15', 'furnished',\n",
       "       'total_area'],\n",
       "      dtype='object')"
      ]
     },
     "execution_count": 11,
     "metadata": {
      "tags": []
     },
     "output_type": "execute_result"
    }
   ],
   "source": [
    "Data.columns"
   ]
  },
  {
   "cell_type": "code",
   "execution_count": 12,
   "metadata": {
    "colab": {
     "base_uri": "https://localhost:8080/",
     "height": 669
    },
    "id": "ZDK7yzx_p1JO",
    "outputId": "17567ead-b349-474f-95c6-debd96fcf3b5"
   },
   "outputs": [
    {
     "name": "stderr",
     "output_type": "stream",
     "text": [
      "/usr/local/lib/python3.6/dist-packages/seaborn/_decorators.py:43: FutureWarning: Pass the following variable as a keyword arg: x. From version 0.12, the only valid positional argument will be `data`, and passing other arguments without an explicit keyword will result in an error or misinterpretation.\n",
      "  FutureWarning\n",
      "/usr/local/lib/python3.6/dist-packages/seaborn/_decorators.py:43: FutureWarning: Pass the following variable as a keyword arg: x. From version 0.12, the only valid positional argument will be `data`, and passing other arguments without an explicit keyword will result in an error or misinterpretation.\n",
      "  FutureWarning\n",
      "/usr/local/lib/python3.6/dist-packages/seaborn/_decorators.py:43: FutureWarning: Pass the following variable as a keyword arg: x. From version 0.12, the only valid positional argument will be `data`, and passing other arguments without an explicit keyword will result in an error or misinterpretation.\n",
      "  FutureWarning\n",
      "/usr/local/lib/python3.6/dist-packages/seaborn/_decorators.py:43: FutureWarning: Pass the following variable as a keyword arg: x. From version 0.12, the only valid positional argument will be `data`, and passing other arguments without an explicit keyword will result in an error or misinterpretation.\n",
      "  FutureWarning\n"
     ]
    },
    {
     "data": {
      "image/png": "[encoded data removed]",
      "text/plain": [
       "<Figure size 1080x504 with 4 Axes>"
      ]
     },
     "metadata": {
      "needs_background": "light",
      "tags": []
     },
     "output_type": "display_data"
    }
   ],
   "source": [
    "fig = plt.figure(figsize=(15,7))\n",
    "fig.add_subplot(2,2,1)\n",
    "sns.countplot(Data['room_bed'])\n",
    "fig.add_subplot(2,2,2)\n",
    "sns.countplot(Data['ceil'])\n",
    "fig.add_subplot(2,2,3)\n",
    "sns.countplot(Data['room_bath'])\n",
    "fig.add_subplot(2,2,4)\n",
    "sns.countplot(Data['quality'])\n",
    "plt.tight_layout()"
   ]
  },
  {
   "cell_type": "code",
   "execution_count": 13,
   "metadata": {
    "colab": {
     "base_uri": "https://localhost:8080/"
    },
    "id": "pLyR0M5Dq4R5",
    "outputId": "2a6b2726-ad85-435f-f675-002d2a8a3942"
   },
   "outputs": [
    {
     "data": {
      "text/plain": [
       "0    20150427T000000\n",
       "1    20150317T000000\n",
       "2    20140820T000000\n",
       "3    20141010T000000\n",
       "4    20150218T000000\n",
       "Name: dayhours, dtype: object"
      ]
     },
     "execution_count": 13,
     "metadata": {
      "tags": []
     },
     "output_type": "execute_result"
    }
   ],
   "source": [
    "Data['dayhours'].head()"
   ]
  },
  {
   "cell_type": "code",
   "execution_count": 14,
   "metadata": {
    "id": "JpLbYuvOvaHM"
   },
   "outputs": [],
   "source": [
    "time = Data['dayhours'].apply(lambda x : x[8:])"
   ]
  },
  {
   "cell_type": "code",
   "execution_count": 15,
   "metadata": {
    "colab": {
     "base_uri": "https://localhost:8080/"
    },
    "id": "0QXGZe7TvivF",
    "outputId": "4865ae7d-d321-4a34-843e-de81668e8312"
   },
   "outputs": [
    {
     "data": {
      "text/plain": [
       "T000000    21613\n",
       "Name: dayhours, dtype: int64"
      ]
     },
     "execution_count": 15,
     "metadata": {
      "tags": []
     },
     "output_type": "execute_result"
    }
   ],
   "source": [
    "time.value_counts()"
   ]
  },
  {
   "cell_type": "code",
   "execution_count": 16,
   "metadata": {
    "id": "gfuMP30EsfN4"
   },
   "outputs": [],
   "source": [
    "Data['dayhours'] = Data['dayhours'].apply(lambda x : x[:8])"
   ]
  },
  {
   "cell_type": "code",
   "execution_count": 17,
   "metadata": {
    "colab": {
     "base_uri": "https://localhost:8080/"
    },
    "id": "_y-9ijfVucna",
    "outputId": "bd761da9-030d-4f80-85a3-753eeeb0b79d"
   },
   "outputs": [
    {
     "data": {
      "text/plain": [
       "length\n",
       "8         21613\n",
       "dtype: int64"
      ]
     },
     "execution_count": 17,
     "metadata": {
      "tags": []
     },
     "output_type": "execute_result"
    }
   ],
   "source": [
    "all_length = [len(date) for date in Data['dayhours']]\n",
    "length = DataFrame(all_length,columns=['length'])\n",
    "length.value_counts()"
   ]
  },
  {
   "cell_type": "code",
   "execution_count": 18,
   "metadata": {
    "id": "OdTELMp0tHBp"
   },
   "outputs": [],
   "source": [
    "Data['dayhours'] = pd.to_datetime(Data['dayhours'], format='%Y%m%d')"
   ]
  },
  {
   "cell_type": "code",
   "execution_count": 19,
   "metadata": {
    "colab": {
     "base_uri": "https://localhost:8080/"
    },
    "id": "dojBenS6uI9w",
    "outputId": "0af79a25-8b50-468f-9772-21696c46ec54"
   },
   "outputs": [
    {
     "data": {
      "text/plain": [
       "0   2015-04-27\n",
       "1   2015-03-17\n",
       "2   2014-08-20\n",
       "3   2014-10-10\n",
       "4   2015-02-18\n",
       "Name: dayhours, dtype: datetime64[ns]"
      ]
     },
     "execution_count": 19,
     "metadata": {
      "tags": []
     },
     "output_type": "execute_result"
    }
   ],
   "source": [
    "Data['dayhours'].head()"
   ]
  },
  {
   "cell_type": "code",
   "execution_count": null,
   "metadata": {
    "id": "yjNdqueKyDnC"
   },
   "outputs": [],
   "source": [
    "#let's break date to years and months"
   ]
  },
  {
   "cell_type": "code",
   "execution_count": 20,
   "metadata": {
    "id": "v96EMR2ix-ZF"
   },
   "outputs": [],
   "source": [
    "Data['date'] = pd.to_datetime(Data['dayhours']).dt.strftime(\"%m%d%Y\")\n",
    "Data['month'] = Data['dayhours'].apply(lambda date:date.month)\n",
    "Data['year'] = Data['dayhours'].apply(lambda date:date.year)"
   ]
  },
  {
   "cell_type": "code",
   "execution_count": null,
   "metadata": {
    "id": "Mzi6EVIzySMn"
   },
   "outputs": [],
   "source": [
    "#Data visualization house price vs months and years"
   ]
  },
  {
   "cell_type": "code",
   "execution_count": 21,
   "metadata": {
    "colab": {
     "base_uri": "https://localhost:8080/",
     "height": 351
    },
    "id": "4zp8prjkyOPc",
    "outputId": "5edfec74-44b6-4303-b018-ca5c35149b27"
   },
   "outputs": [
    {
     "data": {
      "text/plain": [
       "<matplotlib.axes._subplots.AxesSubplot at 0x7efe0c7e8f98>"
      ]
     },
     "execution_count": 21,
     "metadata": {
      "tags": []
     },
     "output_type": "execute_result"
    },
    {
     "data": {
      "image/png": "[encoded data removed]",
      "text/plain": [
       "<Figure size 1152x360 with 2 Axes>"
      ]
     },
     "metadata": {
      "needs_background": "light",
      "tags": []
     },
     "output_type": "display_data"
    }
   ],
   "source": [
    "fig = plt.figure(figsize=(16,5))\n",
    "fig.add_subplot(1,2,1)\n",
    "Data.groupby('month').mean()['price'].plot()\n",
    "fig.add_subplot(1,2,2)\n",
    "Data.groupby('year').mean()['price'].plot()"
   ]
  },
  {
   "cell_type": "code",
   "execution_count": null,
   "metadata": {
    "id": "riuA0Ik0zngt"
   },
   "outputs": [],
   "source": [
    "#drop some unnecessary columns"
   ]
  },
  {
   "cell_type": "code",
   "execution_count": 22,
   "metadata": {
    "id": "uXPkj4x9zA39"
   },
   "outputs": [],
   "source": [
    "Data = Data.drop('dayhours',axis=1)\n",
    "Data = Data.drop('cid',axis=1)\n",
    "Data = Data.drop('zipcode',axis=1)"
   ]
  },
  {
   "cell_type": "code",
   "execution_count": 24,
   "metadata": {
    "colab": {
     "base_uri": "https://localhost:8080/",
     "height": 691
    },
    "id": "ug5DLmKozx3w",
    "outputId": "cc89e88c-01ee-49ab-f0bf-06676a2faf0e"
   },
   "outputs": [
    {
     "data": {
      "text/plain": [
       "<matplotlib.axes._subplots.AxesSubplot at 0x7efe0c8fc0b8>"
      ]
     },
     "execution_count": 24,
     "metadata": {
      "tags": []
     },
     "output_type": "execute_result"
    },
    {
     "data": {
      "image/png": "[encoded data removed]",
      "text/plain": [
       "<Figure size 1080x720 with 2 Axes>"
      ]
     },
     "metadata": {
      "needs_background": "light",
      "tags": []
     },
     "output_type": "display_data"
    }
   ],
   "source": [
    "fig = plt.figure(figsize=(15,10))\n",
    "sns.heatmap(Data.isna(),cmap='inferno')"
   ]
  },
  {
   "cell_type": "code",
   "execution_count": 25,
   "metadata": {
    "colab": {
     "base_uri": "https://localhost:8080/"
    },
    "id": "5Wj9QZJe6xtX",
    "outputId": "02920e55-927f-451c-bbc9-65f606fc1dc7"
   },
   "outputs": [
    {
     "data": {
      "text/plain": [
       "3.0     9767\n",
       "4.0     6854\n",
       "2.0     2747\n",
       "5.0     1595\n",
       "6.0      270\n",
       "1.0      197\n",
       "7.0       38\n",
       "0.0       13\n",
       "8.0       13\n",
       "9.0        6\n",
       "10.0       3\n",
       "11.0       1\n",
       "33.0       1\n",
       "Name: room_bed, dtype: int64"
      ]
     },
     "execution_count": 25,
     "metadata": {
      "tags": []
     },
     "output_type": "execute_result"
    }
   ],
   "source": [
    "Data.room_bed.value_counts()"
   ]
  },
  {
   "cell_type": "code",
   "execution_count": null,
   "metadata": {},
   "outputs": [],
   "source": [
    "#finding variables with maximum  issing values "
   ]
  },
  {
   "cell_type": "code",
   "execution_count": 26,
   "metadata": {
    "colab": {
     "base_uri": "https://localhost:8080/",
     "height": 328
    },
    "id": "GTWjYNbryira",
    "outputId": "4e4ab9cd-2bb9-4b83-fc49-ce31e7335dc3"
   },
   "outputs": [
    {
     "data": {
      "image/png": "[encoded data removed]",
      "text/plain": [
       "<Figure size 432x288 with 1 Axes>"
      ]
     },
     "metadata": {
      "needs_background": "light",
      "tags": []
     },
     "output_type": "display_data"
    }
   ],
   "source": [
    "def viz_missing(df):\n",
    "\n",
    "    missing = pd.DataFrame({\n",
    "        'Missing':Data.isnull().sum(),\n",
    "        '% Missing': Data.isnull().sum()/len(Data)\n",
    "    })\n",
    "    missing = missing[missing['% Missing'] > 0].sort_values(by='Missing', ascending=False)\n",
    "    sns.barplot(x=missing.index, y='% Missing', data=missing)\n",
    "    plt.xticks(rotation=45)\n",
    "    plt.show()\n",
    "\n",
    "viz_missing(Data)"
   ]
  },
  {
   "cell_type": "markdown",
   "metadata": {
    "id": "LlXzuqtS2prt"
   },
   "source": [
    "For our two remaining continuous variable, room_bed , room_bath ,signt we will fill the missing data points with the median (chosen over mean because it is more robust to outliers in the data."
   ]
  },
  {
   "cell_type": "code",
   "execution_count": 27,
   "metadata": {
    "colab": {
     "base_uri": "https://localhost:8080/"
    },
    "id": "vimbmXOD9Tud",
    "outputId": "bdb4ff43-f220-44c3-ef46-4008246bc2d0"
   },
   "outputs": [
    {
     "data": {
      "text/plain": [
       "2.50    5358\n",
       "1.00    3829\n",
       "1.75    3031\n",
       "2.25    2039\n",
       "2.00    1917\n",
       "1.50    1439\n",
       "2.75    1178\n",
       "3.00     750\n",
       "3.50     726\n",
       "3.25     588\n",
       "3.75     155\n",
       "4.00     135\n",
       "4.50     100\n",
       "4.25      78\n",
       "0.75      72\n",
       "4.75      23\n",
       "5.00      21\n",
       "5.25      13\n",
       "0.00      10\n",
       "5.50      10\n",
       "1.25       9\n",
       "6.00       6\n",
       "0.50       4\n",
       "5.75       4\n",
       "8.00       2\n",
       "6.25       2\n",
       "6.75       2\n",
       "6.50       2\n",
       "7.50       1\n",
       "7.75       1\n",
       "Name: room_bath, dtype: int64"
      ]
     },
     "execution_count": 27,
     "metadata": {
      "tags": []
     },
     "output_type": "execute_result"
    }
   ],
   "source": [
    "Data.room_bath.value_counts()"
   ]
  },
  {
   "cell_type": "code",
   "execution_count": 28,
   "metadata": {
    "colab": {
     "base_uri": "https://localhost:8080/"
    },
    "id": "gewJZgAX9bcY",
    "outputId": "32f3b085-5f03-49b1-f697-298484df146c"
   },
   "outputs": [
    {
     "data": {
      "text/plain": [
       "3.0     9767\n",
       "4.0     6854\n",
       "2.0     2747\n",
       "5.0     1595\n",
       "6.0      270\n",
       "1.0      197\n",
       "7.0       38\n",
       "0.0       13\n",
       "8.0       13\n",
       "9.0        6\n",
       "10.0       3\n",
       "11.0       1\n",
       "33.0       1\n",
       "Name: room_bed, dtype: int64"
      ]
     },
     "execution_count": 28,
     "metadata": {
      "tags": []
     },
     "output_type": "execute_result"
    }
   ],
   "source": [
    "Data.room_bed.value_counts()"
   ]
  },
  {
   "cell_type": "code",
   "execution_count": 29,
   "metadata": {
    "colab": {
     "base_uri": "https://localhost:8080/"
    },
    "id": "AMXBqXDQ9j2u",
    "outputId": "43fa42d8-9758-4b82-917c-3f25844d759f"
   },
   "outputs": [
    {
     "data": {
      "text/plain": [
       "0.0    19437\n",
       "2.0      959\n",
       "3.0      510\n",
       "1.0      332\n",
       "4.0      318\n",
       "Name: sight, dtype: int64"
      ]
     },
     "execution_count": 29,
     "metadata": {
      "tags": []
     },
     "output_type": "execute_result"
    }
   ],
   "source": [
    "Data.sight.value_counts()"
   ]
  },
  {
   "cell_type": "code",
   "execution_count": 30,
   "metadata": {
    "colab": {
     "base_uri": "https://localhost:8080/"
    },
    "id": "H_eddNL79pML",
    "outputId": "a10e16d5-4ffb-40e9-c1e7-b2863c9765d9"
   },
   "outputs": [
    {
     "data": {
      "text/plain": [
       "3    13978\n",
       "4     5655\n",
       "5     1694\n",
       "2      171\n",
       "1       30\n",
       "Name: condition, dtype: int64"
      ]
     },
     "execution_count": 30,
     "metadata": {
      "tags": []
     },
     "output_type": "execute_result"
    }
   ],
   "source": [
    "Data.condition.value_counts()"
   ]
  },
  {
   "cell_type": "code",
   "execution_count": 31,
   "metadata": {
    "colab": {
     "base_uri": "https://localhost:8080/"
    },
    "id": "wtWvwiV-9w5E",
    "outputId": "849693ac-bb62-4e2f-d91f-0d9e6031f2d6"
   },
   "outputs": [
    {
     "data": {
      "text/plain": [
       "1      10647\n",
       "2       8210\n",
       "1.5     1905\n",
       "3        610\n",
       "2.5      161\n",
       "3.5        8\n",
       "Name: ceil, dtype: int64"
      ]
     },
     "execution_count": 31,
     "metadata": {
      "tags": []
     },
     "output_type": "execute_result"
    }
   ],
   "source": [
    "Data.ceil.value_counts()"
   ]
  },
  {
   "cell_type": "code",
   "execution_count": 32,
   "metadata": {
    "colab": {
     "base_uri": "https://localhost:8080/"
    },
    "id": "4Gv_LRX_-hix",
    "outputId": "6625c615-bd53-4e95-e1b3-9ca69e4ccceb"
   },
   "outputs": [
    {
     "data": {
      "text/plain": [
       "0.0    17338\n",
       "1.0     4246\n",
       "Name: furnished, dtype: int64"
      ]
     },
     "execution_count": 32,
     "metadata": {
      "tags": []
     },
     "output_type": "execute_result"
    }
   ],
   "source": [
    "Data.furnished.value_counts()"
   ]
  },
  {
   "cell_type": "code",
   "execution_count": 33,
   "metadata": {
    "colab": {
     "base_uri": "https://localhost:8080/"
    },
    "id": "hjXLz1M7-_Pg",
    "outputId": "307c8ff6-c719-42c8-8e0e-2848c0ccb2d4"
   },
   "outputs": [
    {
     "data": {
      "text/plain": [
       "0.0    19437\n",
       "2.0      959\n",
       "3.0      510\n",
       "1.0      332\n",
       "4.0      318\n",
       "Name: sight, dtype: int64"
      ]
     },
     "execution_count": 33,
     "metadata": {
      "tags": []
     },
     "output_type": "execute_result"
    }
   ],
   "source": [
    "Data.sight.value_counts()"
   ]
  },
  {
   "cell_type": "code",
   "execution_count": 34,
   "metadata": {
    "colab": {
     "base_uri": "https://localhost:8080/"
    },
    "id": "uXtAPfLb_xRU",
    "outputId": "92ec4b9a-ba8e-40f2-e7c7-e2bac40ca6fd"
   },
   "outputs": [
    {
     "data": {
      "text/plain": [
       "0    21421\n",
       "1      161\n",
       "Name: coast, dtype: int64"
      ]
     },
     "execution_count": 34,
     "metadata": {
      "tags": []
     },
     "output_type": "execute_result"
    }
   ],
   "source": [
    "Data.coast.value_counts()"
   ]
  },
  {
   "cell_type": "code",
   "execution_count": 35,
   "metadata": {
    "colab": {
     "base_uri": "https://localhost:8080/"
    },
    "id": "uWGCkniAAAr0",
    "outputId": "7ee0ae2d-d892-4f9b-e454-9ab03f2f64ea"
   },
   "outputs": [
    {
     "data": {
      "text/plain": [
       "7.0     8981\n",
       "8.0     6067\n",
       "9.0     2615\n",
       "6.0     2038\n",
       "10.0    1134\n",
       "11.0     399\n",
       "5.0      242\n",
       "12.0      90\n",
       "4.0       29\n",
       "13.0      13\n",
       "3.0        3\n",
       "1.0        1\n",
       "Name: quality, dtype: int64"
      ]
     },
     "execution_count": 35,
     "metadata": {
      "tags": []
     },
     "output_type": "execute_result"
    }
   ],
   "source": [
    "Data.quality.value_counts()"
   ]
  },
  {
   "cell_type": "code",
   "execution_count": 36,
   "metadata": {
    "colab": {
     "base_uri": "https://localhost:8080/"
    },
    "id": "4VxeXJqMA0Rk",
    "outputId": "2e61f1d4-9b80-4b42-a80f-bd4a3ae7b449"
   },
   "outputs": [
    {
     "data": {
      "text/plain": [
       "2014    559\n",
       "2006    454\n",
       "2005    450\n",
       "2004    433\n",
       "2003    421\n",
       "       ... \n",
       "1933     30\n",
       "1901     29\n",
       "1902     27\n",
       "1935     24\n",
       "1934     21\n",
       "Name: yr_built, Length: 116, dtype: int64"
      ]
     },
     "execution_count": 36,
     "metadata": {
      "tags": []
     },
     "output_type": "execute_result"
    }
   ],
   "source": [
    "Data.yr_built.value_counts()"
   ]
  },
  {
   "cell_type": "code",
   "execution_count": 37,
   "metadata": {
    "colab": {
     "base_uri": "https://localhost:8080/",
     "height": 328
    },
    "id": "bb39SuG91UJO",
    "outputId": "f56eca56-d8c4-4400-c70b-ea449c11a62e"
   },
   "outputs": [
    {
     "data": {
      "image/png": "[encoded data removed]",
      "text/plain": [
       "<Figure size 432x288 with 1 Axes>"
      ]
     },
     "metadata": {
      "needs_background": "light",
      "tags": []
     },
     "output_type": "display_data"
    }
   ],
   "source": [
    "Data.room_bed.fillna(Data.room_bed.median(),inplace=True)\n",
    "Data.room_bath.fillna(Data.room_bath.median(),inplace=True)\n",
    "Data.sight.fillna(Data.sight.median(),inplace=True)\n",
    "Data.condition.fillna(Data.condition.median(),inplace=True)\n",
    "Data.ceil.fillna(Data.ceil.median(),inplace=True)\n",
    "Data.furnished.fillna(Data.furnished.median(),inplace = True)\n",
    "Data.sight.fillna(Data.sight.median(),inplace = True)\n",
    "Data.coast.fillna(Data.coast.median(),inplace = True)\n",
    "Data.quality.fillna(Data.quality.median(),inplace=True)\n",
    "Data.yr_built.fillna(Data.yr_built.median(),inplace = True)\n",
    "viz_missing(Data)"
   ]
  },
  {
   "cell_type": "code",
   "execution_count": 38,
   "metadata": {
    "colab": {
     "base_uri": "https://localhost:8080/"
    },
    "id": "kWV-lDTCJzyP",
    "outputId": "3a6faaa4-fadb-486c-96e6-503c9f8c16d4"
   },
   "outputs": [
    {
     "data": {
      "text/plain": [
       "Index(['price', 'room_bed', 'room_bath', 'living_measure', 'lot_measure',\n",
       "       'ceil', 'coast', 'sight', 'condition', 'quality', 'ceil_measure',\n",
       "       'basement', 'yr_built', 'yr_renovated', 'lat', 'long',\n",
       "       'living_measure15', 'lot_measure15', 'furnished', 'total_area', 'date',\n",
       "       'month', 'year'],\n",
       "      dtype='object')"
      ]
     },
     "execution_count": 38,
     "metadata": {
      "tags": []
     },
     "output_type": "execute_result"
    }
   ],
   "source": [
    "Data.columns"
   ]
  },
  {
   "cell_type": "code",
   "execution_count": null,
   "metadata": {
    "id": "avNrHqhPVS12"
   },
   "outputs": [],
   "source": [
    "#filling all the columns with missing value."
   ]
  },
  {
   "cell_type": "code",
   "execution_count": 39,
   "metadata": {
    "id": "LNCnfLRf3O1c"
   },
   "outputs": [],
   "source": [
    "mean_fill_columns = ['living_measure15','total_area','lot_measure','long','lot_measure15','living_measure','ceil_measure','basement']"
   ]
  },
  {
   "cell_type": "code",
   "execution_count": 40,
   "metadata": {
    "colab": {
     "base_uri": "https://localhost:8080/",
     "height": 691
    },
    "id": "QrWs8-LSJOoJ",
    "outputId": "5b0ad537-c1e5-4e7e-872d-b5a9c81c2c07"
   },
   "outputs": [
    {
     "data": {
      "text/plain": [
       "<matplotlib.axes._subplots.AxesSubplot at 0x7efe0e4a3b38>"
      ]
     },
     "execution_count": 40,
     "metadata": {
      "tags": []
     },
     "output_type": "execute_result"
    },
    {
     "data": {
      "image/png": "[encoded data removed]",
      "text/plain": [
       "<Figure size 1080x720 with 2 Axes>"
      ]
     },
     "metadata": {
      "needs_background": "light",
      "tags": []
     },
     "output_type": "display_data"
    }
   ],
   "source": [
    "for var in mean_fill_columns:\n",
    "  Data[var].fillna(Data[var].median(),inplace = True)\n",
    "  \n",
    "fig = plt.figure(figsize=(15,10))\n",
    "sns.heatmap(Data.isna(),cmap='inferno')"
   ]
  },
  {
   "cell_type": "code",
   "execution_count": null,
   "metadata": {
    "id": "27P30lASMA1D"
   },
   "outputs": [],
   "source": [
    "# Splitting the data in X and Y variables. Y assigned for price. "
   ]
  },
  {
   "cell_type": "code",
   "execution_count": 41,
   "metadata": {
    "id": "e2p0o0YELiEC"
   },
   "outputs": [],
   "source": [
    "X = Data.drop('price',axis =1).values\n",
    "y = Data['price'].values"
   ]
  },
  {
   "cell_type": "code",
   "execution_count": null,
   "metadata": {
    "id": "b5G_56xdMdLM"
   },
   "outputs": [],
   "source": [
    "#spliting the dataset in train and test set in 70:30 ratio"
   ]
  },
  {
   "cell_type": "code",
   "execution_count": 42,
   "metadata": {
    "id": "vPMR1X7GManW"
   },
   "outputs": [],
   "source": [
    "from sklearn.model_selection import train_test_split\n",
    "X_train, X_test, y_train, y_test = train_test_split(X, y, test_size=0.30, random_state=101)"
   ]
  },
  {
   "cell_type": "code",
   "execution_count": 43,
   "metadata": {
    "colab": {
     "base_uri": "https://localhost:8080/"
    },
    "id": "MgWjNDt_O6pn",
    "outputId": "feb9e871-8728-4360-c6bf-1cfff4aeaddf"
   },
   "outputs": [
    {
     "data": {
      "text/plain": [
       "Series([], dtype: object)"
      ]
     },
     "execution_count": 43,
     "metadata": {
      "tags": []
     },
     "output_type": "execute_result"
    }
   ],
   "source": [
    "Data.dtypes[Data.dtypes=='datetime64[ns]']"
   ]
  },
  {
   "cell_type": "code",
   "execution_count": null,
   "metadata": {
    "id": "2PYkj_YFNmBA"
   },
   "outputs": [],
   "source": [
    "#Scaling the dataset"
   ]
  },
  {
   "cell_type": "code",
   "execution_count": 44,
   "metadata": {
    "id": "1zw435CKMng6"
   },
   "outputs": [],
   "source": [
    "from sklearn.preprocessing import StandardScaler\n",
    "s_scaler = StandardScaler()\n",
    "X_train = s_scaler.fit_transform(X_train.astype(np.float))\n",
    "X_test = s_scaler.transform(X_test.astype(np.float))"
   ]
  },
  {
   "cell_type": "markdown",
   "metadata": {
    "id": "4zHp30TKTEpy"
   },
   "source": [
    "# Model Selection and Evaluation"
   ]
  },
  {
   "cell_type": "markdown",
   "metadata": {
    "id": "m18YNelCTK32"
   },
   "source": [
    "## Model 1: Linear Regressions\n",
    "Simple Linear Regression is a linear relationship between a dependent variable Y and independent variables X\n",
    "Let’s wrap the training process in our Regression model:"
   ]
  },
  {
   "cell_type": "markdown",
   "metadata": {
    "id": "8oafKYsJdteg"
   },
   "source": [
    "### Create a Linear Regression model."
   ]
  },
  {
   "cell_type": "code",
   "execution_count": 45,
   "metadata": {
    "colab": {
     "base_uri": "https://localhost:8080/"
    },
    "id": "BsyeBgAlTVdt",
    "outputId": "441c3185-0f67-48fa-e534-276ad8b8259c"
   },
   "outputs": [
    {
     "data": {
      "text/plain": [
       "LinearRegression(copy_X=True, fit_intercept=True, n_jobs=None, normalize=False)"
      ]
     },
     "execution_count": 45,
     "metadata": {
      "tags": []
     },
     "output_type": "execute_result"
    }
   ],
   "source": [
    "from sklearn.linear_model import LinearRegression\n",
    "regressor = LinearRegression()  \n",
    "regressor.fit(X_train, y_train) #creating regression model"
   ]
  },
  {
   "cell_type": "code",
   "execution_count": null,
   "metadata": {
    "id": "oBSIIOWrTvi9"
   },
   "outputs": [],
   "source": [
    "# Predicting the test set result"
   ]
  },
  {
   "cell_type": "code",
   "execution_count": 47,
   "metadata": {
    "colab": {
     "base_uri": "https://localhost:8080/",
     "height": 359
    },
    "id": "CipITNrZTsUG",
    "outputId": "60098c00-38ef-49f8-8aa3-7b069ba29ef2"
   },
   "outputs": [
    {
     "data": {
      "text/html": [
       "<div>\n",
       "<style scoped>\n",
       "    .dataframe tbody tr th:only-of-type {\n",
       "        vertical-align: middle;\n",
       "    }\n",
       "\n",
       "    .dataframe tbody tr th {\n",
       "        vertical-align: top;\n",
       "    }\n",
       "\n",
       "    .dataframe thead th {\n",
       "        text-align: right;\n",
       "    }\n",
       "</style>\n",
       "<table border=\"1\" class=\"dataframe\">\n",
       "  <thead>\n",
       "    <tr style=\"text-align: right;\">\n",
       "      <th></th>\n",
       "      <th>Actual</th>\n",
       "      <th>Predicted</th>\n",
       "    </tr>\n",
       "  </thead>\n",
       "  <tbody>\n",
       "    <tr>\n",
       "      <th>0</th>\n",
       "      <td>242500</td>\n",
       "      <td>6.248752e+04</td>\n",
       "    </tr>\n",
       "    <tr>\n",
       "      <th>1</th>\n",
       "      <td>1100000</td>\n",
       "      <td>1.006974e+06</td>\n",
       "    </tr>\n",
       "    <tr>\n",
       "      <th>2</th>\n",
       "      <td>574000</td>\n",
       "      <td>5.033640e+05</td>\n",
       "    </tr>\n",
       "    <tr>\n",
       "      <th>3</th>\n",
       "      <td>356500</td>\n",
       "      <td>3.958108e+05</td>\n",
       "    </tr>\n",
       "    <tr>\n",
       "      <th>4</th>\n",
       "      <td>330000</td>\n",
       "      <td>4.475899e+05</td>\n",
       "    </tr>\n",
       "    <tr>\n",
       "      <th>5</th>\n",
       "      <td>397000</td>\n",
       "      <td>4.399459e+05</td>\n",
       "    </tr>\n",
       "    <tr>\n",
       "      <th>6</th>\n",
       "      <td>442500</td>\n",
       "      <td>4.884633e+05</td>\n",
       "    </tr>\n",
       "    <tr>\n",
       "      <th>7</th>\n",
       "      <td>965000</td>\n",
       "      <td>1.156878e+06</td>\n",
       "    </tr>\n",
       "    <tr>\n",
       "      <th>8</th>\n",
       "      <td>1310000</td>\n",
       "      <td>1.038932e+06</td>\n",
       "    </tr>\n",
       "    <tr>\n",
       "      <th>9</th>\n",
       "      <td>252000</td>\n",
       "      <td>6.873040e+04</td>\n",
       "    </tr>\n",
       "  </tbody>\n",
       "</table>\n",
       "</div>"
      ],
      "text/plain": [
       "    Actual     Predicted\n",
       "0   242500  6.248752e+04\n",
       "1  1100000  1.006974e+06\n",
       "2   574000  5.033640e+05\n",
       "3   356500  3.958108e+05\n",
       "4   330000  4.475899e+05\n",
       "5   397000  4.399459e+05\n",
       "6   442500  4.884633e+05\n",
       "7   965000  1.156878e+06\n",
       "8  1310000  1.038932e+06\n",
       "9   252000  6.873040e+04"
      ]
     },
     "execution_count": 47,
     "metadata": {
      "tags": []
     },
     "output_type": "execute_result"
    }
   ],
   "source": [
    "y_predd = regressor.predict(X_test)\n",
    "df = pd.DataFrame({'Actual': y_test, 'Predicted': y_predd})\n",
    "df1 = df.head(10)\n",
    "df1"
   ]
  },
  {
   "cell_type": "markdown",
   "metadata": {
    "id": "O0c54j9-UKgD"
   },
   "source": [
    "**Put results as a DataFrame**"
   ]
  },
  {
   "cell_type": "code",
   "execution_count": 48,
   "metadata": {
    "colab": {
     "base_uri": "https://localhost:8080/",
     "height": 731
    },
    "id": "hMuYjbhzUEvJ",
    "outputId": "257e254b-6291-44e8-c91d-5720a326a63c"
   },
   "outputs": [
    {
     "data": {
      "text/html": [
       "<div>\n",
       "<style scoped>\n",
       "    .dataframe tbody tr th:only-of-type {\n",
       "        vertical-align: middle;\n",
       "    }\n",
       "\n",
       "    .dataframe tbody tr th {\n",
       "        vertical-align: top;\n",
       "    }\n",
       "\n",
       "    .dataframe thead th {\n",
       "        text-align: right;\n",
       "    }\n",
       "</style>\n",
       "<table border=\"1\" class=\"dataframe\">\n",
       "  <thead>\n",
       "    <tr style=\"text-align: right;\">\n",
       "      <th></th>\n",
       "      <th>Coefficient</th>\n",
       "    </tr>\n",
       "  </thead>\n",
       "  <tbody>\n",
       "    <tr>\n",
       "      <th>room_bed</th>\n",
       "      <td>-33475.383085</td>\n",
       "    </tr>\n",
       "    <tr>\n",
       "      <th>room_bath</th>\n",
       "      <td>38851.764395</td>\n",
       "    </tr>\n",
       "    <tr>\n",
       "      <th>living_measure</th>\n",
       "      <td>115182.107032</td>\n",
       "    </tr>\n",
       "    <tr>\n",
       "      <th>lot_measure</th>\n",
       "      <td>-348.133984</td>\n",
       "    </tr>\n",
       "    <tr>\n",
       "      <th>ceil</th>\n",
       "      <td>4045.946899</td>\n",
       "    </tr>\n",
       "    <tr>\n",
       "      <th>coast</th>\n",
       "      <td>47307.188668</td>\n",
       "    </tr>\n",
       "    <tr>\n",
       "      <th>sight</th>\n",
       "      <td>34446.406916</td>\n",
       "    </tr>\n",
       "    <tr>\n",
       "      <th>condition</th>\n",
       "      <td>21015.335551</td>\n",
       "    </tr>\n",
       "    <tr>\n",
       "      <th>quality</th>\n",
       "      <td>94844.112994</td>\n",
       "    </tr>\n",
       "    <tr>\n",
       "      <th>ceil_measure</th>\n",
       "      <td>42121.251904</td>\n",
       "    </tr>\n",
       "    <tr>\n",
       "      <th>basement</th>\n",
       "      <td>8836.551619</td>\n",
       "    </tr>\n",
       "    <tr>\n",
       "      <th>yr_built</th>\n",
       "      <td>-75221.692261</td>\n",
       "    </tr>\n",
       "    <tr>\n",
       "      <th>yr_renovated</th>\n",
       "      <td>10838.320635</td>\n",
       "    </tr>\n",
       "    <tr>\n",
       "      <th>lat</th>\n",
       "      <td>76823.706450</td>\n",
       "    </tr>\n",
       "    <tr>\n",
       "      <th>long</th>\n",
       "      <td>-15396.638170</td>\n",
       "    </tr>\n",
       "    <tr>\n",
       "      <th>living_measure15</th>\n",
       "      <td>18215.105208</td>\n",
       "    </tr>\n",
       "    <tr>\n",
       "      <th>lot_measure15</th>\n",
       "      <td>-14293.394118</td>\n",
       "    </tr>\n",
       "    <tr>\n",
       "      <th>furnished</th>\n",
       "      <td>18590.724087</td>\n",
       "    </tr>\n",
       "    <tr>\n",
       "      <th>total_area</th>\n",
       "      <td>6750.276548</td>\n",
       "    </tr>\n",
       "    <tr>\n",
       "      <th>date</th>\n",
       "      <td>-71330.179559</td>\n",
       "    </tr>\n",
       "    <tr>\n",
       "      <th>month</th>\n",
       "      <td>74825.738682</td>\n",
       "    </tr>\n",
       "    <tr>\n",
       "      <th>year</th>\n",
       "      <td>16888.833614</td>\n",
       "    </tr>\n",
       "  </tbody>\n",
       "</table>\n",
       "</div>"
      ],
      "text/plain": [
       "                    Coefficient\n",
       "room_bed          -33475.383085\n",
       "room_bath          38851.764395\n",
       "living_measure    115182.107032\n",
       "lot_measure         -348.133984\n",
       "ceil                4045.946899\n",
       "coast              47307.188668\n",
       "sight              34446.406916\n",
       "condition          21015.335551\n",
       "quality            94844.112994\n",
       "ceil_measure       42121.251904\n",
       "basement            8836.551619\n",
       "yr_built          -75221.692261\n",
       "yr_renovated       10838.320635\n",
       "lat                76823.706450\n",
       "long              -15396.638170\n",
       "living_measure15   18215.105208\n",
       "lot_measure15     -14293.394118\n",
       "furnished          18590.724087\n",
       "total_area          6750.276548\n",
       "date              -71330.179559\n",
       "month              74825.738682\n",
       "year               16888.833614"
      ]
     },
     "execution_count": 48,
     "metadata": {
      "tags": []
     },
     "output_type": "execute_result"
    }
   ],
   "source": [
    "coeff_df = pd.DataFrame(regressor.coef_, Data.drop('price',axis =1).columns, columns=['Coefficient']) \n",
    "coeff_df"
   ]
  },
  {
   "cell_type": "markdown",
   "metadata": {
    "id": "U_jzkjQQUg-r"
   },
   "source": [
    "By visualizing the residual we can see that is normally distributed (proof of having linear relationship with the dependent variable)"
   ]
  },
  {
   "cell_type": "code",
   "execution_count": 49,
   "metadata": {
    "colab": {
     "base_uri": "https://localhost:8080/",
     "height": 415
    },
    "id": "VQRQvqHqUWLZ",
    "outputId": "baca6390-ab8a-43ea-d1f9-8cd557848b31"
   },
   "outputs": [
    {
     "name": "stderr",
     "output_type": "stream",
     "text": [
      "/usr/local/lib/python3.6/dist-packages/seaborn/distributions.py:2557: FutureWarning: `distplot` is a deprecated function and will be removed in a future version. Please adapt your code to use either `displot` (a figure-level function with similar flexibility) or `histplot` (an axes-level function for histograms).\n",
      "  warnings.warn(msg, FutureWarning)\n"
     ]
    },
    {
     "data": {
      "text/plain": [
       "<matplotlib.axes._subplots.AxesSubplot at 0x7efe08a9b5f8>"
      ]
     },
     "execution_count": 49,
     "metadata": {
      "tags": []
     },
     "output_type": "execute_result"
    },
    {
     "data": {
      "image/png": "[encoded data removed]",
      "text/plain": [
       "<Figure size 720x360 with 1 Axes>"
      ]
     },
     "metadata": {
      "needs_background": "light",
      "tags": []
     },
     "output_type": "display_data"
    }
   ],
   "source": [
    "fig = plt.figure(figsize=(10,5))\n",
    "residuals = (y_test- y_predd)\n",
    "sns.distplot(residuals)"
   ]
  },
  {
   "cell_type": "markdown",
   "metadata": {
    "id": "FV4uZII9Unag"
   },
   "source": [
    "Let’s compare actual output and predicted value to measure how far our predictions are from the real house prices."
   ]
  },
  {
   "cell_type": "markdown",
   "metadata": {
    "id": "u2e1ztyFUsMi"
   },
   "source": [
    "Compare actual output values with predicted values"
   ]
  },
  {
   "cell_type": "code",
   "execution_count": 50,
   "metadata": {
    "colab": {
     "base_uri": "https://localhost:8080/",
     "height": 359
    },
    "id": "iexGstwBUcL1",
    "outputId": "70613b04-5705-4303-9635-dfb20859f632"
   },
   "outputs": [
    {
     "data": {
      "text/html": [
       "<div>\n",
       "<style scoped>\n",
       "    .dataframe tbody tr th:only-of-type {\n",
       "        vertical-align: middle;\n",
       "    }\n",
       "\n",
       "    .dataframe tbody tr th {\n",
       "        vertical-align: top;\n",
       "    }\n",
       "\n",
       "    .dataframe thead th {\n",
       "        text-align: right;\n",
       "    }\n",
       "</style>\n",
       "<table border=\"1\" class=\"dataframe\">\n",
       "  <thead>\n",
       "    <tr style=\"text-align: right;\">\n",
       "      <th></th>\n",
       "      <th>Actual</th>\n",
       "      <th>Predicted</th>\n",
       "    </tr>\n",
       "  </thead>\n",
       "  <tbody>\n",
       "    <tr>\n",
       "      <th>0</th>\n",
       "      <td>242500</td>\n",
       "      <td>6.248752e+04</td>\n",
       "    </tr>\n",
       "    <tr>\n",
       "      <th>1</th>\n",
       "      <td>1100000</td>\n",
       "      <td>1.006974e+06</td>\n",
       "    </tr>\n",
       "    <tr>\n",
       "      <th>2</th>\n",
       "      <td>574000</td>\n",
       "      <td>5.033640e+05</td>\n",
       "    </tr>\n",
       "    <tr>\n",
       "      <th>3</th>\n",
       "      <td>356500</td>\n",
       "      <td>3.958108e+05</td>\n",
       "    </tr>\n",
       "    <tr>\n",
       "      <th>4</th>\n",
       "      <td>330000</td>\n",
       "      <td>4.475899e+05</td>\n",
       "    </tr>\n",
       "    <tr>\n",
       "      <th>5</th>\n",
       "      <td>397000</td>\n",
       "      <td>4.399459e+05</td>\n",
       "    </tr>\n",
       "    <tr>\n",
       "      <th>6</th>\n",
       "      <td>442500</td>\n",
       "      <td>4.884633e+05</td>\n",
       "    </tr>\n",
       "    <tr>\n",
       "      <th>7</th>\n",
       "      <td>965000</td>\n",
       "      <td>1.156878e+06</td>\n",
       "    </tr>\n",
       "    <tr>\n",
       "      <th>8</th>\n",
       "      <td>1310000</td>\n",
       "      <td>1.038932e+06</td>\n",
       "    </tr>\n",
       "    <tr>\n",
       "      <th>9</th>\n",
       "      <td>252000</td>\n",
       "      <td>6.873040e+04</td>\n",
       "    </tr>\n",
       "  </tbody>\n",
       "</table>\n",
       "</div>"
      ],
      "text/plain": [
       "    Actual     Predicted\n",
       "0   242500  6.248752e+04\n",
       "1  1100000  1.006974e+06\n",
       "2   574000  5.033640e+05\n",
       "3   356500  3.958108e+05\n",
       "4   330000  4.475899e+05\n",
       "5   397000  4.399459e+05\n",
       "6   442500  4.884633e+05\n",
       "7   965000  1.156878e+06\n",
       "8  1310000  1.038932e+06\n",
       "9   252000  6.873040e+04"
      ]
     },
     "execution_count": 50,
     "metadata": {
      "tags": []
     },
     "output_type": "execute_result"
    }
   ],
   "source": [
    "\n",
    "df = pd.DataFrame({'Actual': y_test, 'Predicted': y_predd})\n",
    "df1 = df.head(10)\n",
    "df1"
   ]
  },
  {
   "cell_type": "markdown",
   "metadata": {
    "id": "0LbKu0fZUvjk"
   },
   "source": [
    "Evaluate the performance of the algorithm (MAE - MSE - RMSE)"
   ]
  },
  {
   "cell_type": "code",
   "execution_count": 57,
   "metadata": {
    "colab": {
     "base_uri": "https://localhost:8080/"
    },
    "id": "do0JXc97Upsa",
    "outputId": "cd8dc3f1-65ee-4c22-fdeb-f9ef42898014"
   },
   "outputs": [
    {
     "name": "stdout",
     "output_type": "stream",
     "text": [
      "MAE: 126112.13771193243\n",
      "MSE: 41906053973.67552\n",
      "RMSE: 204709.6821688596\n",
      "VarScore: 0.7082972816478919\n",
      "R square: 0.7082968032718521\n"
     ]
    }
   ],
   "source": [
    "from sklearn import metrics\n",
    "from sklearn.metrics import r2_score\n",
    "print('MAE:', metrics.mean_absolute_error(y_test, y_predd))  \n",
    "print('MSE:', metrics.mean_squared_error(y_test, y_predd))  \n",
    "print('RMSE:', np.sqrt(metrics.mean_squared_error(y_test, y_predd)))\n",
    "print('VarScore:',metrics.explained_variance_score(y_test,y_predd))\n",
    "print('R square:' , metrics.r2_score(y_test,y_predd))\n",
    "\n"
   ]
  },
  {
   "cell_type": "markdown",
   "metadata": {
    "id": "SbF_wzKzVHDA"
   },
   "source": [
    "## Model 2: Keras Regressions"
   ]
  },
  {
   "cell_type": "markdown",
   "metadata": {
    "id": "4JLSFkGXVLl_"
   },
   "source": [
    "Let’s create a baseline neural network model for the regression problem. Starting with all of the needed functions and objects."
   ]
  },
  {
   "cell_type": "markdown",
   "metadata": {
    "id": "1tSng_NpVNyP"
   },
   "source": [
    "### Creating a Neural Network Model"
   ]
  },
  {
   "cell_type": "code",
   "execution_count": 58,
   "metadata": {
    "id": "kkwQllQgUyk_"
   },
   "outputs": [],
   "source": [
    "from tensorflow.keras.models import Sequential\n",
    "from tensorflow.keras.layers import Dense, Activation\n",
    "from tensorflow.keras.optimizers import Adam"
   ]
  },
  {
   "cell_type": "code",
   "execution_count": 59,
   "metadata": {
    "colab": {
     "base_uri": "https://localhost:8080/"
    },
    "id": "PjUIGxRdVY2C",
    "outputId": "206e8407-838d-485e-e5a1-445810d7dddf"
   },
   "outputs": [
    {
     "data": {
      "text/plain": [
       "23"
      ]
     },
     "execution_count": 59,
     "metadata": {
      "tags": []
     },
     "output_type": "execute_result"
    }
   ],
   "source": [
    "len(Data.columns)"
   ]
  },
  {
   "cell_type": "markdown",
   "metadata": {
    "id": "sq9r6-zXVXxO"
   },
   "source": [
    "Since we have 23 features, let’s insert 23 neurons as a start, 4 hidden layers and 1 output layer due to predict house Price.\n",
    "Also, ADAM optimization algorithm is used for optimizing loss function (Mean squared error)"
   ]
  },
  {
   "cell_type": "code",
   "execution_count": 61,
   "metadata": {
    "id": "d-tSko16VRkz"
   },
   "outputs": [],
   "source": [
    "model = Sequential()\n",
    "model.add(Dense(23,activation='relu'))\n",
    "model.add(Dense(23,activation='relu'))\n",
    "model.add(Dense(23,activation='relu'))\n",
    "model.add(Dense(23,activation='relu'))\n",
    "model.add(Dense(1))\n",
    "model.compile(optimizer='Adam',loss = \"mean_squared_error\")"
   ]
  },
  {
   "cell_type": "markdown",
   "metadata": {
    "id": "j4kRWeR4V1P_"
   },
   "source": [
    "Then, we train the model for 400 epochs, and each time record the training and validation accuracy in the history object. To keep track of how well the model is performing for each epoch, the model will run in both train and test data along with calculating the loss function."
   ]
  },
  {
   "cell_type": "code",
   "execution_count": 62,
   "metadata": {
    "colab": {
     "base_uri": "https://localhost:8080/"
    },
    "id": "v4_MMMfgVyg9",
    "outputId": "a3e1c258-8b25-43c3-c184-fcaa5b19811c"
   },
   "outputs": [
    {
     "name": "stdout",
     "output_type": "stream",
     "text": [
      "Epoch 1/400\n",
      "114/114 [==============================] - 3s 5ms/step - loss: 410395049699.0609 - val_loss: 442758660096.0000\n",
      "Epoch 2/400\n",
      "114/114 [==============================] - 0s 3ms/step - loss: 419049491375.8608 - val_loss: 428264980480.0000\n",
      "Epoch 3/400\n",
      "114/114 [==============================] - 0s 3ms/step - loss: 395141942334.3304 - val_loss: 305471750144.0000\n",
      "Epoch 4/400\n",
      "114/114 [==============================] - 0s 3ms/step - loss: 235067952617.7391 - val_loss: 104590770176.0000\n",
      "Epoch 5/400\n",
      "114/114 [==============================] - 0s 3ms/step - loss: 86213504204.8000 - val_loss: 74565115904.0000\n",
      "Epoch 6/400\n",
      "114/114 [==============================] - 0s 3ms/step - loss: 67673055588.1739 - val_loss: 65707773952.0000\n",
      "Epoch 7/400\n",
      "114/114 [==============================] - 0s 3ms/step - loss: 59078535862.5391 - val_loss: 60182237184.0000\n",
      "Epoch 8/400\n",
      "114/114 [==============================] - 0s 3ms/step - loss: 57281689332.8696 - val_loss: 56285249536.0000\n",
      "Epoch 9/400\n",
      "114/114 [==============================] - 0s 3ms/step - loss: 53100136715.1304 - val_loss: 53604896768.0000\n",
      "Epoch 10/400\n",
      "114/114 [==============================] - 0s 3ms/step - loss: 49451897829.2870 - val_loss: 51325952000.0000\n",
      "Epoch 11/400\n",
      "114/114 [==============================] - 0s 3ms/step - loss: 49474129902.1913 - val_loss: 49578151936.0000\n",
      "Epoch 12/400\n",
      "114/114 [==============================] - 0s 3ms/step - loss: 48977658069.7043 - val_loss: 48088866816.0000\n",
      "Epoch 13/400\n",
      "114/114 [==============================] - 0s 3ms/step - loss: 44602335445.7043 - val_loss: 46736596992.0000\n",
      "Epoch 14/400\n",
      "114/114 [==============================] - 0s 3ms/step - loss: 42841121658.4348 - val_loss: 45505011712.0000\n",
      "Epoch 15/400\n",
      "114/114 [==============================] - 0s 3ms/step - loss: 44153262044.3826 - val_loss: 44437938176.0000\n",
      "Epoch 16/400\n",
      "114/114 [==============================] - 0s 3ms/step - loss: 42787316210.6435 - val_loss: 43455975424.0000\n",
      "Epoch 17/400\n",
      "114/114 [==============================] - 0s 3ms/step - loss: 39312229171.2000 - val_loss: 42587607040.0000\n",
      "Epoch 18/400\n",
      "114/114 [==============================] - 0s 3ms/step - loss: 40163197943.0956 - val_loss: 41846812672.0000\n",
      "Epoch 19/400\n",
      "114/114 [==============================] - 0s 3ms/step - loss: 40759539783.2348 - val_loss: 41164218368.0000\n",
      "Epoch 20/400\n",
      "114/114 [==============================] - 0s 3ms/step - loss: 40212690570.0174 - val_loss: 40421654528.0000\n",
      "Epoch 21/400\n",
      "114/114 [==============================] - 0s 3ms/step - loss: 36549905452.5217 - val_loss: 39854989312.0000\n",
      "Epoch 22/400\n",
      "114/114 [==============================] - 0s 2ms/step - loss: 39159402139.8261 - val_loss: 39245971456.0000\n",
      "Epoch 23/400\n",
      "114/114 [==============================] - 0s 3ms/step - loss: 33905834821.0087 - val_loss: 38872674304.0000\n",
      "Epoch 24/400\n",
      "114/114 [==============================] - 0s 3ms/step - loss: 37577204531.2000 - val_loss: 38297886720.0000\n",
      "Epoch 25/400\n",
      "114/114 [==============================] - 0s 3ms/step - loss: 38969705195.9652 - val_loss: 37848563712.0000\n",
      "Epoch 26/400\n",
      "114/114 [==============================] - 0s 3ms/step - loss: 40056077481.1826 - val_loss: 37443731456.0000\n",
      "Epoch 27/400\n",
      "114/114 [==============================] - 0s 3ms/step - loss: 35277483088.1391 - val_loss: 37021900800.0000\n",
      "Epoch 28/400\n",
      "114/114 [==============================] - 0s 3ms/step - loss: 35311305612.2435 - val_loss: 36711501824.0000\n",
      "Epoch 29/400\n",
      "114/114 [==============================] - 0s 3ms/step - loss: 35080609435.8261 - val_loss: 36442189824.0000\n",
      "Epoch 30/400\n",
      "114/114 [==============================] - 0s 3ms/step - loss: 34046157815.0957 - val_loss: 36206952448.0000\n",
      "Epoch 31/400\n",
      "114/114 [==============================] - 0s 3ms/step - loss: 33040832316.1043 - val_loss: 35978829824.0000\n",
      "Epoch 32/400\n",
      "114/114 [==============================] - 0s 3ms/step - loss: 34855034132.0348 - val_loss: 35799343104.0000\n",
      "Epoch 33/400\n",
      "114/114 [==============================] - 0s 3ms/step - loss: 31855245935.3043 - val_loss: 35625480192.0000\n",
      "Epoch 34/400\n",
      "114/114 [==============================] - 0s 3ms/step - loss: 35025287257.0435 - val_loss: 35413999616.0000\n",
      "Epoch 35/400\n",
      "114/114 [==============================] - 0s 3ms/step - loss: 32876209802.0174 - val_loss: 35265183744.0000\n",
      "Epoch 36/400\n",
      "114/114 [==============================] - 0s 3ms/step - loss: 34634919330.5043 - val_loss: 35142467584.0000\n",
      "Epoch 37/400\n",
      "114/114 [==============================] - 0s 3ms/step - loss: 35210119648.8348 - val_loss: 35043053568.0000\n",
      "Epoch 38/400\n",
      "114/114 [==============================] - 0s 3ms/step - loss: 33987592708.4522 - val_loss: 34905976832.0000\n",
      "Epoch 39/400\n",
      "114/114 [==============================] - 0s 3ms/step - loss: 32942734522.9913 - val_loss: 34769272832.0000\n",
      "Epoch 40/400\n",
      "114/114 [==============================] - 0s 3ms/step - loss: 31591535500.2435 - val_loss: 34770694144.0000\n",
      "Epoch 41/400\n",
      "114/114 [==============================] - 0s 3ms/step - loss: 32050876540.6609 - val_loss: 34644799488.0000\n",
      "Epoch 42/400\n",
      "114/114 [==============================] - 0s 3ms/step - loss: 30784122523.8261 - val_loss: 34664366080.0000\n",
      "Epoch 43/400\n",
      "114/114 [==============================] - 0s 3ms/step - loss: 32854936015.0261 - val_loss: 34474762240.0000\n",
      "Epoch 44/400\n",
      "114/114 [==============================] - 0s 3ms/step - loss: 31466937032.3478 - val_loss: 34311430144.0000\n",
      "Epoch 45/400\n",
      "114/114 [==============================] - 0s 3ms/step - loss: 31137598900.3130 - val_loss: 34248130560.0000\n",
      "Epoch 46/400\n",
      "114/114 [==============================] - 0s 3ms/step - loss: 31537121101.9130 - val_loss: 34184181760.0000\n",
      "Epoch 47/400\n",
      "114/114 [==============================] - 0s 3ms/step - loss: 29484936094.0522 - val_loss: 34176753664.0000\n",
      "Epoch 48/400\n",
      "114/114 [==============================] - 0s 3ms/step - loss: 32478791466.2957 - val_loss: 34023262208.0000\n",
      "Epoch 49/400\n",
      "114/114 [==============================] - 0s 3ms/step - loss: 30062655416.7652 - val_loss: 34022653952.0000\n",
      "Epoch 50/400\n",
      "114/114 [==============================] - 0s 3ms/step - loss: 30819147045.8435 - val_loss: 33899878400.0000\n",
      "Epoch 51/400\n",
      "114/114 [==============================] - 0s 3ms/step - loss: 34114789660.9391 - val_loss: 33858594816.0000\n",
      "Epoch 52/400\n",
      "114/114 [==============================] - 0s 3ms/step - loss: 35419054204.6609 - val_loss: 33878056960.0000\n",
      "Epoch 53/400\n",
      "114/114 [==============================] - 0s 3ms/step - loss: 32372716303.5826 - val_loss: 33736779776.0000\n",
      "Epoch 54/400\n",
      "114/114 [==============================] - 0s 3ms/step - loss: 34109263337.7391 - val_loss: 33728727040.0000\n",
      "Epoch 55/400\n",
      "114/114 [==============================] - 0s 3ms/step - loss: 31585754655.1652 - val_loss: 33691617280.0000\n",
      "Epoch 56/400\n",
      "114/114 [==============================] - 0s 3ms/step - loss: 34685705919.4435 - val_loss: 33596446720.0000\n",
      "Epoch 57/400\n",
      "114/114 [==============================] - 0s 3ms/step - loss: 33115376577.6696 - val_loss: 33586800640.0000\n",
      "Epoch 58/400\n",
      "114/114 [==============================] - 0s 3ms/step - loss: 31630303196.3826 - val_loss: 33507807232.0000\n",
      "Epoch 59/400\n",
      "114/114 [==============================] - 0s 3ms/step - loss: 30136542234.7130 - val_loss: 33509455872.0000\n",
      "Epoch 60/400\n",
      "114/114 [==============================] - 0s 3ms/step - loss: 32032823776.8348 - val_loss: 33425729536.0000\n",
      "Epoch 61/400\n",
      "114/114 [==============================] - 0s 3ms/step - loss: 32983834107.5478 - val_loss: 33399343104.0000\n",
      "Epoch 62/400\n",
      "114/114 [==============================] - 0s 3ms/step - loss: 29911769853.7739 - val_loss: 33421242368.0000\n",
      "Epoch 63/400\n",
      "114/114 [==============================] - 0s 3ms/step - loss: 30002821298.0870 - val_loss: 33342089216.0000\n",
      "Epoch 64/400\n",
      "114/114 [==============================] - 0s 3ms/step - loss: 32512977554.9217 - val_loss: 33274482688.0000\n",
      "Epoch 65/400\n",
      "114/114 [==============================] - 0s 4ms/step - loss: 33176916341.9826 - val_loss: 33425580032.0000\n",
      "Epoch 66/400\n",
      "114/114 [==============================] - 0s 3ms/step - loss: 31050396538.4348 - val_loss: 33227302912.0000\n",
      "Epoch 67/400\n",
      "114/114 [==============================] - 0s 3ms/step - loss: 28883465866.0174 - val_loss: 33232400384.0000\n",
      "Epoch 68/400\n",
      "114/114 [==============================] - 0s 3ms/step - loss: 33369917707.1304 - val_loss: 33191067648.0000\n",
      "Epoch 69/400\n",
      "114/114 [==============================] - 0s 3ms/step - loss: 31231169099.6870 - val_loss: 33078251520.0000\n",
      "Epoch 70/400\n",
      "114/114 [==============================] - 0s 3ms/step - loss: 30372589852.9391 - val_loss: 33263464448.0000\n",
      "Epoch 71/400\n",
      "114/114 [==============================] - 0s 3ms/step - loss: 30076580178.3652 - val_loss: 33093842944.0000\n",
      "Epoch 72/400\n",
      "114/114 [==============================] - 0s 3ms/step - loss: 28356088288.8348 - val_loss: 33296930816.0000\n",
      "Epoch 73/400\n",
      "114/114 [==============================] - 0s 3ms/step - loss: 29072987572.3130 - val_loss: 33017647104.0000\n",
      "Epoch 74/400\n",
      "114/114 [==============================] - 0s 3ms/step - loss: 30402201973.9826 - val_loss: 32997429248.0000\n",
      "Epoch 75/400\n",
      "114/114 [==============================] - 0s 3ms/step - loss: 30708333185.1130 - val_loss: 32976959488.0000\n",
      "Epoch 76/400\n",
      "114/114 [==============================] - 0s 3ms/step - loss: 27090792715.1304 - val_loss: 32958410752.0000\n",
      "Epoch 77/400\n",
      "114/114 [==============================] - 0s 3ms/step - loss: 28980220224.5565 - val_loss: 33034881024.0000\n",
      "Epoch 78/400\n",
      "114/114 [==============================] - 0s 3ms/step - loss: 30400901850.1565 - val_loss: 33046611968.0000\n",
      "Epoch 79/400\n",
      "114/114 [==============================] - 0s 3ms/step - loss: 29320522226.6435 - val_loss: 33101996032.0000\n",
      "Epoch 80/400\n",
      "114/114 [==============================] - 0s 3ms/step - loss: 31316923863.9304 - val_loss: 32868767744.0000\n",
      "Epoch 81/400\n",
      "114/114 [==============================] - 0s 3ms/step - loss: 31359820808.9043 - val_loss: 32808171520.0000\n",
      "Epoch 82/400\n",
      "114/114 [==============================] - 0s 3ms/step - loss: 29716412416.0000 - val_loss: 32819597312.0000\n",
      "Epoch 83/400\n",
      "114/114 [==============================] - 0s 3ms/step - loss: 30132805827.8957 - val_loss: 32795914240.0000\n",
      "Epoch 84/400\n",
      "114/114 [==============================] - 0s 3ms/step - loss: 33162335792.9739 - val_loss: 32829044736.0000\n",
      "Epoch 85/400\n",
      "114/114 [==============================] - 0s 3ms/step - loss: 31178458477.0783 - val_loss: 32724393984.0000\n",
      "Epoch 86/400\n",
      "114/114 [==============================] - 0s 3ms/step - loss: 30597836283.5478 - val_loss: 32725833728.0000\n",
      "Epoch 87/400\n",
      "114/114 [==============================] - 0s 3ms/step - loss: 32967873135.3043 - val_loss: 32704636928.0000\n",
      "Epoch 88/400\n",
      "114/114 [==============================] - 0s 3ms/step - loss: 31958937136.9739 - val_loss: 32644790272.0000\n",
      "Epoch 89/400\n",
      "114/114 [==============================] - 0s 3ms/step - loss: 29243600628.8696 - val_loss: 32620791808.0000\n",
      "Epoch 90/400\n",
      "114/114 [==============================] - 0s 3ms/step - loss: 30970637481.1826 - val_loss: 32632377344.0000\n",
      "Epoch 91/400\n",
      "114/114 [==============================] - 0s 3ms/step - loss: 29477215347.7565 - val_loss: 32661942272.0000\n",
      "Epoch 92/400\n",
      "114/114 [==============================] - 0s 3ms/step - loss: 30845727165.2174 - val_loss: 32576780288.0000\n",
      "Epoch 93/400\n",
      "114/114 [==============================] - 0s 3ms/step - loss: 30662670994.9217 - val_loss: 32630849536.0000\n",
      "Epoch 94/400\n",
      "114/114 [==============================] - 0s 3ms/step - loss: 27693554981.8435 - val_loss: 32539717632.0000\n",
      "Epoch 95/400\n",
      "114/114 [==============================] - 0s 3ms/step - loss: 28972202767.5826 - val_loss: 32507920384.0000\n",
      "Epoch 96/400\n",
      "114/114 [==============================] - 0s 3ms/step - loss: 30127948239.0261 - val_loss: 32513609728.0000\n",
      "Epoch 97/400\n",
      "114/114 [==============================] - 0s 3ms/step - loss: 30540728836.4522 - val_loss: 32489132032.0000\n",
      "Epoch 98/400\n",
      "114/114 [==============================] - 0s 3ms/step - loss: 28476131363.6174 - val_loss: 32474099712.0000\n",
      "Epoch 99/400\n",
      "114/114 [==============================] - 0s 3ms/step - loss: 30089921651.7565 - val_loss: 32465952768.0000\n",
      "Epoch 100/400\n",
      "114/114 [==============================] - 0s 3ms/step - loss: 31901335356.1043 - val_loss: 32412059648.0000\n",
      "Epoch 101/400\n",
      "114/114 [==============================] - 0s 3ms/step - loss: 29760433864.3478 - val_loss: 32381364224.0000\n",
      "Epoch 102/400\n",
      "114/114 [==============================] - 0s 3ms/step - loss: 31737419491.0609 - val_loss: 32430182400.0000\n",
      "Epoch 103/400\n",
      "114/114 [==============================] - 0s 3ms/step - loss: 28454003257.8783 - val_loss: 32501106688.0000\n",
      "Epoch 104/400\n",
      "114/114 [==============================] - 0s 3ms/step - loss: 29568909668.1739 - val_loss: 32488331264.0000\n",
      "Epoch 105/400\n",
      "114/114 [==============================] - 0s 3ms/step - loss: 29167853568.0000 - val_loss: 32696766464.0000\n",
      "Epoch 106/400\n",
      "114/114 [==============================] - 0s 3ms/step - loss: 31595954995.2000 - val_loss: 32339791872.0000\n",
      "Epoch 107/400\n",
      "114/114 [==============================] - 0s 3ms/step - loss: 27468421992.6261 - val_loss: 32303349760.0000\n",
      "Epoch 108/400\n",
      "114/114 [==============================] - 0s 3ms/step - loss: 28235123346.9217 - val_loss: 32476987392.0000\n",
      "Epoch 109/400\n",
      "114/114 [==============================] - 0s 3ms/step - loss: 27597180821.1478 - val_loss: 32605024256.0000\n",
      "Epoch 110/400\n",
      "114/114 [==============================] - 0s 3ms/step - loss: 32464490389.1478 - val_loss: 32229681152.0000\n",
      "Epoch 111/400\n",
      "114/114 [==============================] - 0s 3ms/step - loss: 28590229219.0609 - val_loss: 32218402816.0000\n",
      "Epoch 112/400\n",
      "114/114 [==============================] - 0s 3ms/step - loss: 27987351854.7478 - val_loss: 32186800128.0000\n",
      "Epoch 113/400\n",
      "114/114 [==============================] - 0s 3ms/step - loss: 29195682931.7565 - val_loss: 32150007808.0000\n",
      "Epoch 114/400\n",
      "114/114 [==============================] - 0s 3ms/step - loss: 30510318885.8435 - val_loss: 32141873152.0000\n",
      "Epoch 115/400\n",
      "114/114 [==============================] - 0s 4ms/step - loss: 28123548039.7913 - val_loss: 32149200896.0000\n",
      "Epoch 116/400\n",
      "114/114 [==============================] - 0s 3ms/step - loss: 31591273614.4696 - val_loss: 32129290240.0000\n",
      "Epoch 117/400\n",
      "114/114 [==============================] - 0s 2ms/step - loss: 31698363400.9043 - val_loss: 32095971328.0000\n",
      "Epoch 118/400\n",
      "114/114 [==============================] - 0s 3ms/step - loss: 30353854081.1130 - val_loss: 32250349568.0000\n",
      "Epoch 119/400\n",
      "114/114 [==============================] - 0s 3ms/step - loss: 28267065121.3913 - val_loss: 32069052416.0000\n",
      "Epoch 120/400\n",
      "114/114 [==============================] - 0s 3ms/step - loss: 29527837740.5217 - val_loss: 32039274496.0000\n",
      "Epoch 121/400\n",
      "114/114 [==============================] - 0s 3ms/step - loss: 30624554990.1913 - val_loss: 32074059776.0000\n",
      "Epoch 122/400\n",
      "114/114 [==============================] - 0s 3ms/step - loss: 28652942006.5391 - val_loss: 32000473088.0000\n",
      "Epoch 123/400\n",
      "114/114 [==============================] - 0s 3ms/step - loss: 28517638090.5739 - val_loss: 32028504064.0000\n",
      "Epoch 124/400\n",
      "114/114 [==============================] - 0s 3ms/step - loss: 29717715781.0087 - val_loss: 32084979712.0000\n",
      "Epoch 125/400\n",
      "114/114 [==============================] - 0s 3ms/step - loss: 28692772133.8435 - val_loss: 31988271104.0000\n",
      "Epoch 126/400\n",
      "114/114 [==============================] - 0s 3ms/step - loss: 29855009302.2609 - val_loss: 32067143680.0000\n",
      "Epoch 127/400\n",
      "114/114 [==============================] - 0s 3ms/step - loss: 30109183608.2087 - val_loss: 31910942720.0000\n",
      "Epoch 128/400\n",
      "114/114 [==============================] - 0s 3ms/step - loss: 28982616028.3826 - val_loss: 31916765184.0000\n",
      "Epoch 129/400\n",
      "114/114 [==============================] - 0s 3ms/step - loss: 29855234831.5826 - val_loss: 31957745664.0000\n",
      "Epoch 130/400\n",
      "114/114 [==============================] - 0s 3ms/step - loss: 31708736948.3130 - val_loss: 31880300544.0000\n",
      "Epoch 131/400\n",
      "114/114 [==============================] - 0s 3ms/step - loss: 28605391524.7304 - val_loss: 31842074624.0000\n",
      "Epoch 132/400\n",
      "114/114 [==============================] - 0s 3ms/step - loss: 30559986073.6000 - val_loss: 31845367808.0000\n",
      "Epoch 133/400\n",
      "114/114 [==============================] - 0s 3ms/step - loss: 29073619763.2000 - val_loss: 31905292288.0000\n",
      "Epoch 134/400\n",
      "114/114 [==============================] - 0s 3ms/step - loss: 30264167219.2000 - val_loss: 31856857088.0000\n",
      "Epoch 135/400\n",
      "114/114 [==============================] - 0s 3ms/step - loss: 28176311251.4783 - val_loss: 31770112000.0000\n",
      "Epoch 136/400\n",
      "114/114 [==============================] - 0s 3ms/step - loss: 29550984948.8696 - val_loss: 31767255040.0000\n",
      "Epoch 137/400\n",
      "114/114 [==============================] - 0s 3ms/step - loss: 31210486133.9826 - val_loss: 31759867904.0000\n",
      "Epoch 138/400\n",
      "114/114 [==============================] - 0s 3ms/step - loss: 29780370173.7739 - val_loss: 31735658496.0000\n",
      "Epoch 139/400\n",
      "114/114 [==============================] - 0s 3ms/step - loss: 30043179471.0261 - val_loss: 31698470912.0000\n",
      "Epoch 140/400\n",
      "114/114 [==============================] - 0s 3ms/step - loss: 30360703314.3652 - val_loss: 31682328576.0000\n",
      "Epoch 141/400\n",
      "114/114 [==============================] - 0s 3ms/step - loss: 29465110207.4435 - val_loss: 31797010432.0000\n",
      "Epoch 142/400\n",
      "114/114 [==============================] - 0s 3ms/step - loss: 29180509103.8609 - val_loss: 31667656704.0000\n",
      "Epoch 143/400\n",
      "114/114 [==============================] - 0s 3ms/step - loss: 29342814243.6174 - val_loss: 31613706240.0000\n",
      "Epoch 144/400\n",
      "114/114 [==============================] - 0s 3ms/step - loss: 26830307488.2783 - val_loss: 31670140928.0000\n",
      "Epoch 145/400\n",
      "114/114 [==============================] - 0s 3ms/step - loss: 28029607134.6087 - val_loss: 31808714752.0000\n",
      "Epoch 146/400\n",
      "114/114 [==============================] - 0s 3ms/step - loss: 28250214435.6174 - val_loss: 31619348480.0000\n",
      "Epoch 147/400\n",
      "114/114 [==============================] - 0s 3ms/step - loss: 28482537810.3652 - val_loss: 31579318272.0000\n",
      "Epoch 148/400\n",
      "114/114 [==============================] - 0s 3ms/step - loss: 29506366597.5652 - val_loss: 31512938496.0000\n",
      "Epoch 149/400\n",
      "114/114 [==============================] - 0s 3ms/step - loss: 30928350288.1391 - val_loss: 31523381248.0000\n",
      "Epoch 150/400\n",
      "114/114 [==============================] - 0s 3ms/step - loss: 28635552153.6000 - val_loss: 31579123712.0000\n",
      "Epoch 151/400\n",
      "114/114 [==============================] - 0s 3ms/step - loss: 28973048698.4348 - val_loss: 31494637568.0000\n",
      "Epoch 152/400\n",
      "114/114 [==============================] - 0s 3ms/step - loss: 30346455022.1913 - val_loss: 31460925440.0000\n",
      "Epoch 153/400\n",
      "114/114 [==============================] - 0s 3ms/step - loss: 30173071253.1478 - val_loss: 31450324992.0000\n",
      "Epoch 154/400\n",
      "114/114 [==============================] - 0s 3ms/step - loss: 29234720821.4261 - val_loss: 31448406016.0000\n",
      "Epoch 155/400\n",
      "114/114 [==============================] - 0s 3ms/step - loss: 28908557445.5652 - val_loss: 31446476800.0000\n",
      "Epoch 156/400\n",
      "114/114 [==============================] - 0s 3ms/step - loss: 29966095582.6087 - val_loss: 31397601280.0000\n",
      "Epoch 157/400\n",
      "114/114 [==============================] - 0s 3ms/step - loss: 29074642178.2261 - val_loss: 31398928384.0000\n",
      "Epoch 158/400\n",
      "114/114 [==============================] - 0s 3ms/step - loss: 28227577606.6783 - val_loss: 31496951808.0000\n",
      "Epoch 159/400\n",
      "114/114 [==============================] - 0s 3ms/step - loss: 28382127611.5478 - val_loss: 31381891072.0000\n",
      "Epoch 160/400\n",
      "114/114 [==============================] - 0s 3ms/step - loss: 27353443978.0174 - val_loss: 31368587264.0000\n",
      "Epoch 161/400\n",
      "114/114 [==============================] - 0s 3ms/step - loss: 29981475706.4348 - val_loss: 31352276992.0000\n",
      "Epoch 162/400\n",
      "114/114 [==============================] - 0s 3ms/step - loss: 25817859365.8435 - val_loss: 31591694336.0000\n",
      "Epoch 163/400\n",
      "114/114 [==============================] - 0s 3ms/step - loss: 27083136596.5913 - val_loss: 31377627136.0000\n",
      "Epoch 164/400\n",
      "114/114 [==============================] - 0s 3ms/step - loss: 27816224750.1913 - val_loss: 31305914368.0000\n",
      "Epoch 165/400\n",
      "114/114 [==============================] - 0s 3ms/step - loss: 26889955595.1304 - val_loss: 31284875264.0000\n",
      "Epoch 166/400\n",
      "114/114 [==============================] - 0s 3ms/step - loss: 27739311754.0174 - val_loss: 31276871680.0000\n",
      "Epoch 167/400\n",
      "114/114 [==============================] - 0s 3ms/step - loss: 27763198183.5130 - val_loss: 31254198272.0000\n",
      "Epoch 168/400\n",
      "114/114 [==============================] - 0s 3ms/step - loss: 28096158354.9217 - val_loss: 31371767808.0000\n",
      "Epoch 169/400\n",
      "114/114 [==============================] - 0s 3ms/step - loss: 26705413128.9043 - val_loss: 31222796288.0000\n",
      "Epoch 170/400\n",
      "114/114 [==============================] - 0s 3ms/step - loss: 29208281230.4696 - val_loss: 31184533504.0000\n",
      "Epoch 171/400\n",
      "114/114 [==============================] - 0s 3ms/step - loss: 30851498162.0870 - val_loss: 31289628672.0000\n",
      "Epoch 172/400\n",
      "114/114 [==============================] - 0s 3ms/step - loss: 27822333595.8261 - val_loss: 31230631936.0000\n",
      "Epoch 173/400\n",
      "114/114 [==============================] - 0s 3ms/step - loss: 27604231479.6522 - val_loss: 31151157248.0000\n",
      "Epoch 174/400\n",
      "114/114 [==============================] - 0s 3ms/step - loss: 28638174537.4609 - val_loss: 31141265408.0000\n",
      "Epoch 175/400\n",
      "114/114 [==============================] - 0s 3ms/step - loss: 30304526870.2609 - val_loss: 31107379200.0000\n",
      "Epoch 176/400\n",
      "114/114 [==============================] - 0s 3ms/step - loss: 27144366026.5739 - val_loss: 31565895680.0000\n",
      "Epoch 177/400\n",
      "114/114 [==============================] - 0s 3ms/step - loss: 27785032712.9043 - val_loss: 31059963904.0000\n",
      "Epoch 178/400\n",
      "114/114 [==============================] - 0s 3ms/step - loss: 30204966805.1478 - val_loss: 31084552192.0000\n",
      "Epoch 179/400\n",
      "114/114 [==============================] - 0s 3ms/step - loss: 28331481408.5565 - val_loss: 31139330048.0000\n",
      "Epoch 180/400\n",
      "114/114 [==============================] - 0s 3ms/step - loss: 28459591252.5913 - val_loss: 31014811648.0000\n",
      "Epoch 181/400\n",
      "114/114 [==============================] - 0s 3ms/step - loss: 28674159019.4087 - val_loss: 31004645376.0000\n",
      "Epoch 182/400\n",
      "114/114 [==============================] - 0s 3ms/step - loss: 27739749874.6435 - val_loss: 30984206336.0000\n",
      "Epoch 183/400\n",
      "114/114 [==============================] - 0s 3ms/step - loss: 27511360467.4783 - val_loss: 30935588864.0000\n",
      "Epoch 184/400\n",
      "114/114 [==============================] - 0s 3ms/step - loss: 26417667668.5913 - val_loss: 31013502976.0000\n",
      "Epoch 185/400\n",
      "114/114 [==============================] - 0s 3ms/step - loss: 28574023875.8957 - val_loss: 30888251392.0000\n",
      "Epoch 186/400\n",
      "114/114 [==============================] - 0s 3ms/step - loss: 27555280628.8696 - val_loss: 30870456320.0000\n",
      "Epoch 187/400\n",
      "114/114 [==============================] - 0s 3ms/step - loss: 28149461900.2435 - val_loss: 30876102656.0000\n",
      "Epoch 188/400\n",
      "114/114 [==============================] - 0s 3ms/step - loss: 26921690227.7565 - val_loss: 30861428736.0000\n",
      "Epoch 189/400\n",
      "114/114 [==============================] - 0s 3ms/step - loss: 27028590876.9391 - val_loss: 30780176384.0000\n",
      "Epoch 190/400\n",
      "114/114 [==============================] - 0s 3ms/step - loss: 28575045471.7217 - val_loss: 30774820864.0000\n",
      "Epoch 191/400\n",
      "114/114 [==============================] - 0s 3ms/step - loss: 27078918268.6609 - val_loss: 30758373376.0000\n",
      "Epoch 192/400\n",
      "114/114 [==============================] - 0s 3ms/step - loss: 28047481081.3217 - val_loss: 30725666816.0000\n",
      "Epoch 193/400\n",
      "114/114 [==============================] - 0s 3ms/step - loss: 27746986447.0261 - val_loss: 30702495744.0000\n",
      "Epoch 194/400\n",
      "114/114 [==============================] - 0s 3ms/step - loss: 29867394359.6522 - val_loss: 30674362368.0000\n",
      "Epoch 195/400\n",
      "114/114 [==============================] - 0s 3ms/step - loss: 29390596648.0696 - val_loss: 30659461120.0000\n",
      "Epoch 196/400\n",
      "114/114 [==============================] - 0s 3ms/step - loss: 26635742537.4609 - val_loss: 30656159744.0000\n",
      "Epoch 197/400\n",
      "114/114 [==============================] - 0s 3ms/step - loss: 27563871258.7130 - val_loss: 30614319104.0000\n",
      "Epoch 198/400\n",
      "114/114 [==============================] - 0s 3ms/step - loss: 27875173082.1565 - val_loss: 30593280000.0000\n",
      "Epoch 199/400\n",
      "114/114 [==============================] - 0s 3ms/step - loss: 27216865208.7652 - val_loss: 30648973312.0000\n",
      "Epoch 200/400\n",
      "114/114 [==============================] - 0s 3ms/step - loss: 27068795912.9043 - val_loss: 30594787328.0000\n",
      "Epoch 201/400\n",
      "114/114 [==============================] - 0s 3ms/step - loss: 26548315287.3739 - val_loss: 30813626368.0000\n",
      "Epoch 202/400\n",
      "114/114 [==============================] - 0s 3ms/step - loss: 27832020885.1478 - val_loss: 30537037824.0000\n",
      "Epoch 203/400\n",
      "114/114 [==============================] - 0s 3ms/step - loss: 28740437944.7652 - val_loss: 30504560640.0000\n",
      "Epoch 204/400\n",
      "114/114 [==============================] - 0s 3ms/step - loss: 25642444016.4174 - val_loss: 30660804608.0000\n",
      "Epoch 205/400\n",
      "114/114 [==============================] - 0s 3ms/step - loss: 27824511706.1565 - val_loss: 30480437248.0000\n",
      "Epoch 206/400\n",
      "114/114 [==============================] - 0s 3ms/step - loss: 27277308295.7913 - val_loss: 30798200832.0000\n",
      "Epoch 207/400\n",
      "114/114 [==============================] - 0s 3ms/step - loss: 28442647792.4174 - val_loss: 30394910720.0000\n",
      "Epoch 208/400\n",
      "114/114 [==============================] - 0s 3ms/step - loss: 27462405306.9913 - val_loss: 30448648192.0000\n",
      "Epoch 209/400\n",
      "114/114 [==============================] - 0s 3ms/step - loss: 26705885094.9565 - val_loss: 30401341440.0000\n",
      "Epoch 210/400\n",
      "114/114 [==============================] - 0s 3ms/step - loss: 28729126876.3826 - val_loss: 30327734272.0000\n",
      "Epoch 211/400\n",
      "114/114 [==============================] - 0s 3ms/step - loss: 27947383763.4783 - val_loss: 30378799104.0000\n",
      "Epoch 212/400\n",
      "114/114 [==============================] - 0s 3ms/step - loss: 26491695014.9565 - val_loss: 30341902336.0000\n",
      "Epoch 213/400\n",
      "114/114 [==============================] - 0s 3ms/step - loss: 27269164147.7565 - val_loss: 30328393728.0000\n",
      "Epoch 214/400\n",
      "114/114 [==============================] - 0s 3ms/step - loss: 26915876596.8696 - val_loss: 30248843264.0000\n",
      "Epoch 215/400\n",
      "114/114 [==============================] - 0s 3ms/step - loss: 26650771153.2522 - val_loss: 30358300672.0000\n",
      "Epoch 216/400\n",
      "114/114 [==============================] - 0s 3ms/step - loss: 28145671034.4348 - val_loss: 30272729088.0000\n",
      "Epoch 217/400\n",
      "114/114 [==============================] - 0s 3ms/step - loss: 25129596607.4435 - val_loss: 30503356416.0000\n",
      "Epoch 218/400\n",
      "114/114 [==============================] - 0s 3ms/step - loss: 25646551503.0261 - val_loss: 30227595264.0000\n",
      "Epoch 219/400\n",
      "114/114 [==============================] - 0s 3ms/step - loss: 25768150487.9304 - val_loss: 30171664384.0000\n",
      "Epoch 220/400\n",
      "114/114 [==============================] - 0s 3ms/step - loss: 26094781270.8174 - val_loss: 30170142720.0000\n",
      "Epoch 221/400\n",
      "114/114 [==============================] - 0s 3ms/step - loss: 26029749239.0957 - val_loss: 30249129984.0000\n",
      "Epoch 222/400\n",
      "114/114 [==============================] - 0s 3ms/step - loss: 25347426090.2957 - val_loss: 30426318848.0000\n",
      "Epoch 223/400\n",
      "114/114 [==============================] - 0s 3ms/step - loss: 28689133176.2087 - val_loss: 30059841536.0000\n",
      "Epoch 224/400\n",
      "114/114 [==============================] - 0s 4ms/step - loss: 27379679516.9391 - val_loss: 30133721088.0000\n",
      "Epoch 225/400\n",
      "114/114 [==============================] - 0s 3ms/step - loss: 25625176518.1217 - val_loss: 30073022464.0000\n",
      "Epoch 226/400\n",
      "114/114 [==============================] - 0s 3ms/step - loss: 25740170409.1826 - val_loss: 30018938880.0000\n",
      "Epoch 227/400\n",
      "114/114 [==============================] - 0s 3ms/step - loss: 26617632607.7217 - val_loss: 30129850368.0000\n",
      "Epoch 228/400\n",
      "114/114 [==============================] - 0s 3ms/step - loss: 26693677323.1304 - val_loss: 30021541888.0000\n",
      "Epoch 229/400\n",
      "114/114 [==============================] - 0s 3ms/step - loss: 27963750364.3826 - val_loss: 29987821568.0000\n",
      "Epoch 230/400\n",
      "114/114 [==============================] - 0s 3ms/step - loss: 25182904355.6174 - val_loss: 29981014016.0000\n",
      "Epoch 231/400\n",
      "114/114 [==============================] - 0s 3ms/step - loss: 26367554711.3739 - val_loss: 29961445376.0000\n",
      "Epoch 232/400\n",
      "114/114 [==============================] - 0s 3ms/step - loss: 27203150233.6000 - val_loss: 29918078976.0000\n",
      "Epoch 233/400\n",
      "114/114 [==============================] - 0s 3ms/step - loss: 25828643047.5130 - val_loss: 29891600384.0000\n",
      "Epoch 234/400\n",
      "114/114 [==============================] - 0s 3ms/step - loss: 26193425114.1565 - val_loss: 30067578880.0000\n",
      "Epoch 235/400\n",
      "114/114 [==============================] - 0s 3ms/step - loss: 26654479315.4783 - val_loss: 29896333312.0000\n",
      "Epoch 236/400\n",
      "114/114 [==============================] - 0s 3ms/step - loss: 27197724547.3391 - val_loss: 30046214144.0000\n",
      "Epoch 237/400\n",
      "114/114 [==============================] - 0s 3ms/step - loss: 25799021924.1739 - val_loss: 29931679744.0000\n",
      "Epoch 238/400\n",
      "114/114 [==============================] - 0s 3ms/step - loss: 26381156458.8522 - val_loss: 29883297792.0000\n",
      "Epoch 239/400\n",
      "114/114 [==============================] - 0s 3ms/step - loss: 25801834496.0000 - val_loss: 29856126976.0000\n",
      "Epoch 240/400\n",
      "114/114 [==============================] - 0s 3ms/step - loss: 25229061146.7130 - val_loss: 29957658624.0000\n",
      "Epoch 241/400\n",
      "114/114 [==============================] - 0s 3ms/step - loss: 25265579747.0609 - val_loss: 29810345984.0000\n",
      "Epoch 242/400\n",
      "114/114 [==============================] - 0s 3ms/step - loss: 26885561192.6261 - val_loss: 29785923584.0000\n",
      "Epoch 243/400\n",
      "114/114 [==============================] - 0s 3ms/step - loss: 26383742352.6957 - val_loss: 29752989696.0000\n",
      "Epoch 244/400\n",
      "114/114 [==============================] - 0s 3ms/step - loss: 26258934703.8609 - val_loss: 29844432896.0000\n",
      "Epoch 245/400\n",
      "114/114 [==============================] - 0s 3ms/step - loss: 25148391993.8783 - val_loss: 30138148864.0000\n",
      "Epoch 246/400\n",
      "114/114 [==============================] - 0s 3ms/step - loss: 26671786571.6870 - val_loss: 29830733824.0000\n",
      "Epoch 247/400\n",
      "114/114 [==============================] - 0s 3ms/step - loss: 26900322856.0696 - val_loss: 29875664896.0000\n",
      "Epoch 248/400\n",
      "114/114 [==============================] - 0s 3ms/step - loss: 24591104071.2348 - val_loss: 29691473920.0000\n",
      "Epoch 249/400\n",
      "114/114 [==============================] - 0s 3ms/step - loss: 26355639251.4783 - val_loss: 29655207936.0000\n",
      "Epoch 250/400\n",
      "114/114 [==============================] - 0s 3ms/step - loss: 24756803673.0435 - val_loss: 29799968768.0000\n",
      "Epoch 251/400\n",
      "114/114 [==============================] - 0s 3ms/step - loss: 24790931420.3826 - val_loss: 29789624320.0000\n",
      "Epoch 252/400\n",
      "114/114 [==============================] - 0s 3ms/step - loss: 25337003515.5478 - val_loss: 29656971264.0000\n",
      "Epoch 253/400\n",
      "114/114 [==============================] - 0s 3ms/step - loss: 25514237150.6087 - val_loss: 29640663040.0000\n",
      "Epoch 254/400\n",
      "114/114 [==============================] - 0s 3ms/step - loss: 25081919808.5565 - val_loss: 29575786496.0000\n",
      "Epoch 255/400\n",
      "114/114 [==============================] - 0s 3ms/step - loss: 24451388246.8174 - val_loss: 29543104512.0000\n",
      "Epoch 256/400\n",
      "114/114 [==============================] - 0s 3ms/step - loss: 27360241129.7391 - val_loss: 29538856960.0000\n",
      "Epoch 257/400\n",
      "114/114 [==============================] - 0s 3ms/step - loss: 25658493925.2870 - val_loss: 29568430080.0000\n",
      "Epoch 258/400\n",
      "114/114 [==============================] - 0s 3ms/step - loss: 26925593270.5391 - val_loss: 29509206016.0000\n",
      "Epoch 259/400\n",
      "114/114 [==============================] - 0s 3ms/step - loss: 30290315531.1304 - val_loss: 29526945792.0000\n",
      "Epoch 260/400\n",
      "114/114 [==============================] - 0s 3ms/step - loss: 25173712201.4609 - val_loss: 29476712448.0000\n",
      "Epoch 261/400\n",
      "114/114 [==============================] - 0s 3ms/step - loss: 25180921802.5739 - val_loss: 29457973248.0000\n",
      "Epoch 262/400\n",
      "114/114 [==============================] - 0s 3ms/step - loss: 26871731458.2261 - val_loss: 29439197184.0000\n",
      "Epoch 263/400\n",
      "114/114 [==============================] - 0s 3ms/step - loss: 24877511608.7652 - val_loss: 29449940992.0000\n",
      "Epoch 264/400\n",
      "114/114 [==============================] - 0s 3ms/step - loss: 26289700881.8087 - val_loss: 29476904960.0000\n",
      "Epoch 265/400\n",
      "114/114 [==============================] - 0s 3ms/step - loss: 28137550144.5565 - val_loss: 29419493376.0000\n",
      "Epoch 266/400\n",
      "114/114 [==============================] - 0s 3ms/step - loss: 25996694519.0957 - val_loss: 29413214208.0000\n",
      "Epoch 267/400\n",
      "114/114 [==============================] - 0s 3ms/step - loss: 23557980070.9565 - val_loss: 29371758592.0000\n",
      "Epoch 268/400\n",
      "114/114 [==============================] - 0s 3ms/step - loss: 26790029703.7913 - val_loss: 29408165888.0000\n",
      "Epoch 269/400\n",
      "114/114 [==============================] - 0s 3ms/step - loss: 25412442112.0000 - val_loss: 29700390912.0000\n",
      "Epoch 270/400\n",
      "114/114 [==============================] - 0s 3ms/step - loss: 27279924820.5913 - val_loss: 29403379712.0000\n",
      "Epoch 271/400\n",
      "114/114 [==============================] - 0s 3ms/step - loss: 24491545644.5217 - val_loss: 29697558528.0000\n",
      "Epoch 272/400\n",
      "114/114 [==============================] - 0s 3ms/step - loss: 24228937728.0000 - val_loss: 29500592128.0000\n",
      "Epoch 273/400\n",
      "114/114 [==============================] - 0s 3ms/step - loss: 25372843586.7826 - val_loss: 29332105216.0000\n",
      "Epoch 274/400\n",
      "114/114 [==============================] - 0s 3ms/step - loss: 26369551173.0087 - val_loss: 29425156096.0000\n",
      "Epoch 275/400\n",
      "114/114 [==============================] - 0s 3ms/step - loss: 24721061424.9739 - val_loss: 29392203776.0000\n",
      "Epoch 276/400\n",
      "114/114 [==============================] - 0s 3ms/step - loss: 27408269828.4522 - val_loss: 29324132352.0000\n",
      "Epoch 277/400\n",
      "114/114 [==============================] - 0s 3ms/step - loss: 25429640610.5043 - val_loss: 29329901568.0000\n",
      "Epoch 278/400\n",
      "114/114 [==============================] - 0s 3ms/step - loss: 25194403314.6435 - val_loss: 29331320832.0000\n",
      "Epoch 279/400\n",
      "114/114 [==============================] - 0s 3ms/step - loss: 26513308698.7130 - val_loss: 29422434304.0000\n",
      "Epoch 280/400\n",
      "114/114 [==============================] - 0s 3ms/step - loss: 26085159090.0870 - val_loss: 29275719680.0000\n",
      "Epoch 281/400\n",
      "114/114 [==============================] - 0s 3ms/step - loss: 24160547109.8435 - val_loss: 29274302464.0000\n",
      "Epoch 282/400\n",
      "114/114 [==============================] - 0s 3ms/step - loss: 25542419678.6087 - val_loss: 29261963264.0000\n",
      "Epoch 283/400\n",
      "114/114 [==============================] - 0s 4ms/step - loss: 25843606679.3739 - val_loss: 29227679744.0000\n",
      "Epoch 284/400\n",
      "114/114 [==============================] - 0s 3ms/step - loss: 24941722900.0348 - val_loss: 29237002240.0000\n",
      "Epoch 285/400\n",
      "114/114 [==============================] - 0s 3ms/step - loss: 25460140049.8087 - val_loss: 29313601536.0000\n",
      "Epoch 286/400\n",
      "114/114 [==============================] - 0s 3ms/step - loss: 24618634533.8435 - val_loss: 29324017664.0000\n",
      "Epoch 287/400\n",
      "114/114 [==============================] - 0s 3ms/step - loss: 25791715381.4261 - val_loss: 29184366592.0000\n",
      "Epoch 288/400\n",
      "114/114 [==============================] - 0s 3ms/step - loss: 27688976312.7652 - val_loss: 29202491392.0000\n",
      "Epoch 289/400\n",
      "114/114 [==============================] - 0s 3ms/step - loss: 26557490113.6696 - val_loss: 29177942016.0000\n",
      "Epoch 290/400\n",
      "114/114 [==============================] - 0s 3ms/step - loss: 26170021603.0609 - val_loss: 29159923712.0000\n",
      "Epoch 291/400\n",
      "114/114 [==============================] - 0s 3ms/step - loss: 25134902797.3565 - val_loss: 29126322176.0000\n",
      "Epoch 292/400\n",
      "114/114 [==============================] - 0s 3ms/step - loss: 24520501960.3478 - val_loss: 29195773952.0000\n",
      "Epoch 293/400\n",
      "114/114 [==============================] - 0s 3ms/step - loss: 26964253704.9043 - val_loss: 29133750272.0000\n",
      "Epoch 294/400\n",
      "114/114 [==============================] - 0s 3ms/step - loss: 25119682061.3565 - val_loss: 29243570176.0000\n",
      "Epoch 295/400\n",
      "114/114 [==============================] - 0s 3ms/step - loss: 25064930971.8261 - val_loss: 29148776448.0000\n",
      "Epoch 296/400\n",
      "114/114 [==============================] - 0s 3ms/step - loss: 25093237964.8000 - val_loss: 29353701376.0000\n",
      "Epoch 297/400\n",
      "114/114 [==============================] - 0s 3ms/step - loss: 26350601402.9913 - val_loss: 29079203840.0000\n",
      "Epoch 298/400\n",
      "114/114 [==============================] - 0s 3ms/step - loss: 26328616443.5478 - val_loss: 29144616960.0000\n",
      "Epoch 299/400\n",
      "114/114 [==============================] - 0s 3ms/step - loss: 26255559991.6522 - val_loss: 29082050560.0000\n",
      "Epoch 300/400\n",
      "114/114 [==============================] - 0s 3ms/step - loss: 24969640078.4696 - val_loss: 29296846848.0000\n",
      "Epoch 301/400\n",
      "114/114 [==============================] - 0s 3ms/step - loss: 25235833081.3217 - val_loss: 29088243712.0000\n",
      "Epoch 302/400\n",
      "114/114 [==============================] - 0s 3ms/step - loss: 25320355394.7826 - val_loss: 29082064896.0000\n",
      "Epoch 303/400\n",
      "114/114 [==============================] - 0s 3ms/step - loss: 25109666032.4174 - val_loss: 29022623744.0000\n",
      "Epoch 304/400\n",
      "114/114 [==============================] - 0s 3ms/step - loss: 25079658282.2957 - val_loss: 29100789760.0000\n",
      "Epoch 305/400\n",
      "114/114 [==============================] - 0s 3ms/step - loss: 24174311744.5565 - val_loss: 29712818176.0000\n",
      "Epoch 306/400\n",
      "114/114 [==============================] - 0s 3ms/step - loss: 26048730566.1217 - val_loss: 29055496192.0000\n",
      "Epoch 307/400\n",
      "114/114 [==============================] - 0s 3ms/step - loss: 25664078554.1565 - val_loss: 29017698304.0000\n",
      "Epoch 308/400\n",
      "114/114 [==============================] - 0s 3ms/step - loss: 24839451585.6696 - val_loss: 28976871424.0000\n",
      "Epoch 309/400\n",
      "114/114 [==============================] - 0s 3ms/step - loss: 25848196318.6087 - val_loss: 29128308736.0000\n",
      "Epoch 310/400\n",
      "114/114 [==============================] - 0s 3ms/step - loss: 25734194434.2261 - val_loss: 28957196288.0000\n",
      "Epoch 311/400\n",
      "114/114 [==============================] - 0s 3ms/step - loss: 25136926363.8261 - val_loss: 28990560256.0000\n",
      "Epoch 312/400\n",
      "114/114 [==============================] - 0s 3ms/step - loss: 24805639604.3130 - val_loss: 29013067776.0000\n",
      "Epoch 313/400\n",
      "114/114 [==============================] - 0s 3ms/step - loss: 23851705726.8870 - val_loss: 29366796288.0000\n",
      "Epoch 314/400\n",
      "114/114 [==============================] - 0s 3ms/step - loss: 25231694376.0696 - val_loss: 29036625920.0000\n",
      "Epoch 315/400\n",
      "114/114 [==============================] - 0s 3ms/step - loss: 24991515977.4609 - val_loss: 29050900480.0000\n",
      "Epoch 316/400\n",
      "114/114 [==============================] - 0s 3ms/step - loss: 25411335265.9478 - val_loss: 28960974848.0000\n",
      "Epoch 317/400\n",
      "114/114 [==============================] - 0s 3ms/step - loss: 24657697551.5826 - val_loss: 29129760768.0000\n",
      "Epoch 318/400\n",
      "114/114 [==============================] - 0s 3ms/step - loss: 25617761395.7565 - val_loss: 28925415424.0000\n",
      "Epoch 319/400\n",
      "114/114 [==============================] - 0s 3ms/step - loss: 23443758783.4435 - val_loss: 28977332224.0000\n",
      "Epoch 320/400\n",
      "114/114 [==============================] - 0s 3ms/step - loss: 25482697273.8783 - val_loss: 28955557888.0000\n",
      "Epoch 321/400\n",
      "114/114 [==============================] - 0s 3ms/step - loss: 24677603862.2609 - val_loss: 28891987968.0000\n",
      "Epoch 322/400\n",
      "114/114 [==============================] - 0s 3ms/step - loss: 25315985835.4087 - val_loss: 28886339584.0000\n",
      "Epoch 323/400\n",
      "114/114 [==============================] - 0s 3ms/step - loss: 24130688062.3304 - val_loss: 28999368704.0000\n",
      "Epoch 324/400\n",
      "114/114 [==============================] - 0s 3ms/step - loss: 25975577003.4087 - val_loss: 28887207936.0000\n",
      "Epoch 325/400\n",
      "114/114 [==============================] - 0s 3ms/step - loss: 26082811636.8696 - val_loss: 28922855424.0000\n",
      "Epoch 326/400\n",
      "114/114 [==============================] - 0s 3ms/step - loss: 25697918655.4435 - val_loss: 29103638528.0000\n",
      "Epoch 327/400\n",
      "114/114 [==============================] - 0s 3ms/step - loss: 24783093679.8609 - val_loss: 28877840384.0000\n",
      "Epoch 328/400\n",
      "114/114 [==============================] - 0s 3ms/step - loss: 24189592246.5391 - val_loss: 28881149952.0000\n",
      "Epoch 329/400\n",
      "114/114 [==============================] - 0s 3ms/step - loss: 25204065288.9043 - val_loss: 28838531072.0000\n",
      "Epoch 330/400\n",
      "114/114 [==============================] - 0s 3ms/step - loss: 23071672952.2087 - val_loss: 28919269376.0000\n",
      "Epoch 331/400\n",
      "114/114 [==============================] - 0s 3ms/step - loss: 24541370599.5130 - val_loss: 28816869376.0000\n",
      "Epoch 332/400\n",
      "114/114 [==============================] - 0s 3ms/step - loss: 25451359472.4174 - val_loss: 28861061120.0000\n",
      "Epoch 333/400\n",
      "114/114 [==============================] - 0s 4ms/step - loss: 23062188913.5304 - val_loss: 28918849536.0000\n",
      "Epoch 334/400\n",
      "114/114 [==============================] - 0s 3ms/step - loss: 25586084694.8174 - val_loss: 28824809472.0000\n",
      "Epoch 335/400\n",
      "114/114 [==============================] - 0s 3ms/step - loss: 25670094705.5304 - val_loss: 28860278784.0000\n",
      "Epoch 336/400\n",
      "114/114 [==============================] - 0s 3ms/step - loss: 24761667049.7391 - val_loss: 28762554368.0000\n",
      "Epoch 337/400\n",
      "114/114 [==============================] - 0s 3ms/step - loss: 23794102165.1478 - val_loss: 28743393280.0000\n",
      "Epoch 338/400\n",
      "114/114 [==============================] - 0s 3ms/step - loss: 24841943360.5565 - val_loss: 28780619776.0000\n",
      "Epoch 339/400\n",
      "114/114 [==============================] - 0s 3ms/step - loss: 25633133167.3043 - val_loss: 28740124672.0000\n",
      "Epoch 340/400\n",
      "114/114 [==============================] - 0s 3ms/step - loss: 24794198229.7043 - val_loss: 28784205824.0000\n",
      "Epoch 341/400\n",
      "114/114 [==============================] - 0s 3ms/step - loss: 23504032652.2435 - val_loss: 28995993600.0000\n",
      "Epoch 342/400\n",
      "114/114 [==============================] - 0s 3ms/step - loss: 24808626176.0000 - val_loss: 28864385024.0000\n",
      "Epoch 343/400\n",
      "114/114 [==============================] - 0s 3ms/step - loss: 25400439692.2435 - val_loss: 28836653056.0000\n",
      "Epoch 344/400\n",
      "114/114 [==============================] - 0s 3ms/step - loss: 24297464947.7565 - val_loss: 28711376896.0000\n",
      "Epoch 345/400\n",
      "114/114 [==============================] - 0s 3ms/step - loss: 24850177442.5043 - val_loss: 29029599232.0000\n",
      "Epoch 346/400\n",
      "114/114 [==============================] - 0s 3ms/step - loss: 24227214095.5826 - val_loss: 28776261632.0000\n",
      "Epoch 347/400\n",
      "114/114 [==============================] - 0s 3ms/step - loss: 25601608285.4957 - val_loss: 28745580544.0000\n",
      "Epoch 348/400\n",
      "114/114 [==============================] - 0s 3ms/step - loss: 26020299277.3565 - val_loss: 28693209088.0000\n",
      "Epoch 349/400\n",
      "114/114 [==============================] - 0s 3ms/step - loss: 23669739769.3217 - val_loss: 28697378816.0000\n",
      "Epoch 350/400\n",
      "114/114 [==============================] - 0s 3ms/step - loss: 25582915138.7826 - val_loss: 28644331520.0000\n",
      "Epoch 351/400\n",
      "114/114 [==============================] - 0s 3ms/step - loss: 23752679317.1478 - val_loss: 28749498368.0000\n",
      "Epoch 352/400\n",
      "114/114 [==============================] - 0s 3ms/step - loss: 25117385202.6435 - val_loss: 28751421440.0000\n",
      "Epoch 353/400\n",
      "114/114 [==============================] - 0s 3ms/step - loss: 24316561123.0609 - val_loss: 28772491264.0000\n",
      "Epoch 354/400\n",
      "114/114 [==============================] - 0s 3ms/step - loss: 24821451321.8783 - val_loss: 28618727424.0000\n",
      "Epoch 355/400\n",
      "114/114 [==============================] - 0s 3ms/step - loss: 24117494365.4957 - val_loss: 28631900160.0000\n",
      "Epoch 356/400\n",
      "114/114 [==============================] - 0s 3ms/step - loss: 23650523296.2783 - val_loss: 28711303168.0000\n",
      "Epoch 357/400\n",
      "114/114 [==============================] - 0s 3ms/step - loss: 25245381071.0261 - val_loss: 28672731136.0000\n",
      "Epoch 358/400\n",
      "114/114 [==============================] - 0s 3ms/step - loss: 23320501114.4348 - val_loss: 28757243904.0000\n",
      "Epoch 359/400\n",
      "114/114 [==============================] - 0s 3ms/step - loss: 24066392420.1739 - val_loss: 28622145536.0000\n",
      "Epoch 360/400\n",
      "114/114 [==============================] - 0s 3ms/step - loss: 24692283009.1130 - val_loss: 28793548800.0000\n",
      "Epoch 361/400\n",
      "114/114 [==============================] - 0s 3ms/step - loss: 24234748972.5217 - val_loss: 28586397696.0000\n",
      "Epoch 362/400\n",
      "114/114 [==============================] - 0s 3ms/step - loss: 23483142856.3478 - val_loss: 28697131008.0000\n",
      "Epoch 363/400\n",
      "114/114 [==============================] - 0s 3ms/step - loss: 24153276594.0870 - val_loss: 28582715392.0000\n",
      "Epoch 364/400\n",
      "114/114 [==============================] - 0s 3ms/step - loss: 24311629236.3130 - val_loss: 28601950208.0000\n",
      "Epoch 365/400\n",
      "114/114 [==============================] - 0s 3ms/step - loss: 24360590238.0522 - val_loss: 28616128512.0000\n",
      "Epoch 366/400\n",
      "114/114 [==============================] - 0s 3ms/step - loss: 23707088566.5391 - val_loss: 28541704192.0000\n",
      "Epoch 367/400\n",
      "114/114 [==============================] - 0s 3ms/step - loss: 25723342135.6522 - val_loss: 28588349440.0000\n",
      "Epoch 368/400\n",
      "114/114 [==============================] - 0s 3ms/step - loss: 25342354583.3739 - val_loss: 28576493568.0000\n",
      "Epoch 369/400\n",
      "114/114 [==============================] - 0s 3ms/step - loss: 24721523952.4174 - val_loss: 28556105728.0000\n",
      "Epoch 370/400\n",
      "114/114 [==============================] - 0s 3ms/step - loss: 23997640312.2087 - val_loss: 28796071936.0000\n",
      "Epoch 371/400\n",
      "114/114 [==============================] - 0s 3ms/step - loss: 25511147520.0000 - val_loss: 28566620160.0000\n",
      "Epoch 372/400\n",
      "114/114 [==============================] - 0s 3ms/step - loss: 25737960688.4174 - val_loss: 28533835776.0000\n",
      "Epoch 373/400\n",
      "114/114 [==============================] - 0s 3ms/step - loss: 23780478851.3391 - val_loss: 28640079872.0000\n",
      "Epoch 374/400\n",
      "114/114 [==============================] - 0s 3ms/step - loss: 24423830875.2696 - val_loss: 28503574528.0000\n",
      "Epoch 375/400\n",
      "114/114 [==============================] - 0s 3ms/step - loss: 25039523323.5478 - val_loss: 28485089280.0000\n",
      "Epoch 376/400\n",
      "114/114 [==============================] - 0s 3ms/step - loss: 25045048685.0783 - val_loss: 28488224768.0000\n",
      "Epoch 377/400\n",
      "114/114 [==============================] - 0s 3ms/step - loss: 25015321876.0348 - val_loss: 28471396352.0000\n",
      "Epoch 378/400\n",
      "114/114 [==============================] - 0s 3ms/step - loss: 24105035954.0870 - val_loss: 28645072896.0000\n",
      "Epoch 379/400\n",
      "114/114 [==============================] - 0s 3ms/step - loss: 25386529462.5391 - val_loss: 28445216768.0000\n",
      "Epoch 380/400\n",
      "114/114 [==============================] - 0s 3ms/step - loss: 23062253256.3478 - val_loss: 28546082816.0000\n",
      "Epoch 381/400\n",
      "114/114 [==============================] - 0s 3ms/step - loss: 24086167712.2783 - val_loss: 28500819968.0000\n",
      "Epoch 382/400\n",
      "114/114 [==============================] - 0s 3ms/step - loss: 24264640921.6000 - val_loss: 28486205440.0000\n",
      "Epoch 383/400\n",
      "114/114 [==============================] - 0s 3ms/step - loss: 24638379640.2087 - val_loss: 28445050880.0000\n",
      "Epoch 384/400\n",
      "114/114 [==============================] - 0s 3ms/step - loss: 24839791357.7739 - val_loss: 28482566144.0000\n",
      "Epoch 385/400\n",
      "114/114 [==============================] - 0s 3ms/step - loss: 24111466834.3652 - val_loss: 28411267072.0000\n",
      "Epoch 386/400\n",
      "114/114 [==============================] - 0s 3ms/step - loss: 22952059129.3217 - val_loss: 28461070336.0000\n",
      "Epoch 387/400\n",
      "114/114 [==============================] - 0s 3ms/step - loss: 24639893049.8783 - val_loss: 28491632640.0000\n",
      "Epoch 388/400\n",
      "114/114 [==============================] - 0s 3ms/step - loss: 24643253506.2261 - val_loss: 28423071744.0000\n",
      "Epoch 389/400\n",
      "114/114 [==============================] - 0s 3ms/step - loss: 23954841769.1826 - val_loss: 28430985216.0000\n",
      "Epoch 390/400\n",
      "114/114 [==============================] - 0s 3ms/step - loss: 23966171981.9130 - val_loss: 28605388800.0000\n",
      "Epoch 391/400\n",
      "114/114 [==============================] - 0s 3ms/step - loss: 24495318755.0609 - val_loss: 28530671616.0000\n",
      "Epoch 392/400\n",
      "114/114 [==============================] - 0s 4ms/step - loss: 23137257169.2522 - val_loss: 28399001600.0000\n",
      "Epoch 393/400\n",
      "114/114 [==============================] - 0s 3ms/step - loss: 24840174618.7130 - val_loss: 28416495616.0000\n",
      "Epoch 394/400\n",
      "114/114 [==============================] - 0s 3ms/step - loss: 23837830402.2261 - val_loss: 28483741696.0000\n",
      "Epoch 395/400\n",
      "114/114 [==============================] - 0s 3ms/step - loss: 24438915917.9130 - val_loss: 28547876864.0000\n",
      "Epoch 396/400\n",
      "114/114 [==============================] - 0s 3ms/step - loss: 24604325674.2957 - val_loss: 28357048320.0000\n",
      "Epoch 397/400\n",
      "114/114 [==============================] - 0s 3ms/step - loss: 25485209279.4435 - val_loss: 28437790720.0000\n",
      "Epoch 398/400\n",
      "114/114 [==============================] - 0s 3ms/step - loss: 23517970645.7043 - val_loss: 28382930944.0000\n",
      "Epoch 399/400\n",
      "114/114 [==============================] - 0s 3ms/step - loss: 25125139037.4957 - val_loss: 28386017280.0000\n",
      "Epoch 400/400\n",
      "114/114 [==============================] - 0s 3ms/step - loss: 24009092888.4870 - val_loss: 28367869952.0000\n",
      "Model: \"sequential_1\"\n",
      "_________________________________________________________________\n",
      "Layer (type)                 Output Shape              Param #   \n",
      "=================================================================\n",
      "dense_5 (Dense)              (None, 23)                529       \n",
      "_________________________________________________________________\n",
      "dense_6 (Dense)              (None, 23)                552       \n",
      "_________________________________________________________________\n",
      "dense_7 (Dense)              (None, 23)                552       \n",
      "_________________________________________________________________\n",
      "dense_8 (Dense)              (None, 23)                552       \n",
      "_________________________________________________________________\n",
      "dense_9 (Dense)              (None, 1)                 24        \n",
      "=================================================================\n",
      "Total params: 2,209\n",
      "Trainable params: 2,209\n",
      "Non-trainable params: 0\n",
      "_________________________________________________________________\n"
     ]
    }
   ],
   "source": [
    "model.fit(x=X_train,y=y_train,\n",
    "          validation_data=(X_test,y_test),\n",
    "          batch_size=128,epochs=400)\n",
    "model.summary()"
   ]
  },
  {
   "cell_type": "code",
   "execution_count": 63,
   "metadata": {
    "colab": {
     "base_uri": "https://localhost:8080/",
     "height": 511
    },
    "id": "Y30gc-waV3Kn",
    "outputId": "23a6b88f-08d9-463f-b1db-d040dfcd2909"
   },
   "outputs": [
    {
     "data": {
      "text/plain": [
       "<matplotlib.axes._subplots.AxesSubplot at 0x7efdd545e5f8>"
      ]
     },
     "execution_count": 63,
     "metadata": {
      "tags": []
     },
     "output_type": "execute_result"
    },
    {
     "data": {
      "image/png": "[encoded data removed]",
      "text/plain": [
       "<Figure size 864x576 with 1 Axes>"
      ]
     },
     "metadata": {
      "needs_background": "light",
      "tags": []
     },
     "output_type": "display_data"
    }
   ],
   "source": [
    "loss_df = pd.DataFrame(model.history.history)\n",
    "loss_df.plot(figsize=(12,8))"
   ]
  },
  {
   "cell_type": "markdown",
   "metadata": {
    "id": "TC_TSKzDXILL"
   },
   "source": [
    "### Predicting the test set result"
   ]
  },
  {
   "cell_type": "code",
   "execution_count": 64,
   "metadata": {
    "id": "MDuHbOdSXFN8"
   },
   "outputs": [],
   "source": [
    "y_pred = model.predict(X_test)"
   ]
  },
  {
   "cell_type": "markdown",
   "metadata": {
    "id": "enhEWG7BXbxT"
   },
   "source": [
    "**Evaluation metrics**"
   ]
  },
  {
   "cell_type": "code",
   "execution_count": 65,
   "metadata": {
    "colab": {
     "base_uri": "https://localhost:8080/"
    },
    "id": "A-_p8xuYXPsu",
    "outputId": "65f14f0a-d8dd-4197-ed9a-e8efaa1a9f43"
   },
   "outputs": [
    {
     "name": "stdout",
     "output_type": "stream",
     "text": [
      "Mean Absolute Error: 101078.14\n",
      "Mean Squared Error: 28367872851.42\n",
      "Root Mean Squared Error: 168427.65\n",
      "Variance score is: 0.80\n",
      "R square : 0.80\n"
     ]
    }
   ],
   "source": [
    "from sklearn import metrics\n",
    "\n",
    "print('Mean Absolute Error: {:.2f}'.format(metrics.mean_absolute_error(y_test, y_pred)))\n",
    "print('Mean Squared Error: {:.2f}'.format(metrics.mean_squared_error(y_test, y_pred)))\n",
    "print('Root Mean Squared Error: {:.2f}'.format(np.sqrt(metrics.mean_squared_error(y_test, y_pred))))\n",
    "print('Variance score is: {:.2f}'.format(metrics.explained_variance_score(y_test,y_pred)))\n",
    "print('R square : {:.2f}'.format(metrics.r2_score(y_test,y_pred)))\n"
   ]
  },
  {
   "cell_type": "markdown",
   "metadata": {
    "id": "qJI1fApHXkHz"
   },
   "source": [
    "**Our predictions**"
   ]
  },
  {
   "cell_type": "code",
   "execution_count": 67,
   "metadata": {
    "colab": {
     "base_uri": "https://localhost:8080/",
     "height": 361
    },
    "id": "akUlVNA6XWDl",
    "outputId": "ca2f8882-025e-4f6c-f5ae-86a800c4d115"
   },
   "outputs": [
    {
     "data": {
      "text/plain": [
       "[<matplotlib.lines.Line2D at 0x7efd62f07be0>]"
      ]
     },
     "execution_count": 67,
     "metadata": {
      "tags": []
     },
     "output_type": "execute_result"
    },
    {
     "data": {
      "image/png": "[encoded data removed]",
      "text/plain": [
       "<Figure size 720x360 with 1 Axes>"
      ]
     },
     "metadata": {
      "needs_background": "light",
      "tags": []
     },
     "output_type": "display_data"
    }
   ],
   "source": [
    "fig = plt.figure(figsize=(10,5))\n",
    "plt.scatter(y_test,y_pred)\n",
    "plt.plot(y_test,y_test,'r')"
   ]
  },
  {
   "cell_type": "markdown",
   "metadata": {
    "id": "hyvCZMWOO0uX"
   },
   "source": [
    "## Model 3: Gradient Boosting Regression\n"
   ]
  },
  {
   "cell_type": "code",
   "execution_count": 68,
   "metadata": {
    "id": "r8Yiq3VHPqtw"
   },
   "outputs": [],
   "source": [
    "from sklearn import ensemble\n",
    "from sklearn.utils import shuffle"
   ]
  },
  {
   "cell_type": "markdown",
   "metadata": {
    "id": "6H3_1aF-WPDC"
   },
   "source": [
    "### Creating a Gradient Boosting Regression Model"
   ]
  },
  {
   "cell_type": "code",
   "execution_count": 69,
   "metadata": {
    "colab": {
     "base_uri": "https://localhost:8080/"
    },
    "id": "dnRZ9Y1sYcFE",
    "outputId": "e34f6e67-f574-4681-c660-b5d0da4c524a"
   },
   "outputs": [
    {
     "data": {
      "text/plain": [
       "GradientBoostingRegressor(alpha=0.9, ccp_alpha=0.0, criterion='friedman_mse',\n",
       "                          init=None, learning_rate=0.05, loss='ls', max_depth=4,\n",
       "                          max_features=None, max_leaf_nodes=None,\n",
       "                          min_impurity_decrease=0.0, min_impurity_split=None,\n",
       "                          min_samples_leaf=1, min_samples_split=2,\n",
       "                          min_weight_fraction_leaf=0.0, n_estimators=100,\n",
       "                          n_iter_no_change=None, presort='deprecated',\n",
       "                          random_state=None, subsample=1.0, tol=0.0001,\n",
       "                          validation_fraction=0.1, verbose=0, warm_start=False)"
      ]
     },
     "execution_count": 69,
     "metadata": {
      "tags": []
     },
     "output_type": "execute_result"
    }
   ],
   "source": [
    "params = {'n_estimators': 100, 'max_depth': 4, 'min_samples_split': 2,\n",
    "          'learning_rate': 0.05, 'loss': 'ls'}\n",
    "clf = ensemble.GradientBoostingRegressor(**params)\n",
    "\n",
    "clf.fit(X_train, y_train)"
   ]
  },
  {
   "cell_type": "code",
   "execution_count": 70,
   "metadata": {
    "id": "BGUX5wsmdK8U"
   },
   "outputs": [],
   "source": [
    "y_preddd = clf.predict(X_test)"
   ]
  },
  {
   "cell_type": "code",
   "execution_count": 71,
   "metadata": {
    "colab": {
     "base_uri": "https://localhost:8080/",
     "height": 361
    },
    "id": "v1-sfvsZda3B",
    "outputId": "a65459cd-37fe-4d7a-8b90-86f21d0416de"
   },
   "outputs": [
    {
     "data": {
      "text/plain": [
       "[<matplotlib.lines.Line2D at 0x7efd612a4c88>]"
      ]
     },
     "execution_count": 71,
     "metadata": {
      "tags": []
     },
     "output_type": "execute_result"
    },
    {
     "data": {
      "image/png": "[encoded data removed]",
      "text/plain": [
       "<Figure size 720x360 with 1 Axes>"
      ]
     },
     "metadata": {
      "needs_background": "light",
      "tags": []
     },
     "output_type": "display_data"
    }
   ],
   "source": [
    "fig = plt.figure(figsize=(10,5))\n",
    "plt.scatter(y_test,y_preddd)\n",
    "plt.plot(y_test,y_test,'r')"
   ]
  },
  {
   "cell_type": "markdown",
   "metadata": {
    "id": "FTGCsFAjWlT1"
   },
   "source": [
    "### Predicting the test set result"
   ]
  },
  {
   "cell_type": "code",
   "execution_count": 73,
   "metadata": {
    "colab": {
     "base_uri": "https://localhost:8080/"
    },
    "id": "363ifzYccQdk",
    "outputId": "f7ae7598-eca1-493e-b93b-b7ba8a8009b3"
   },
   "outputs": [
    {
     "name": "stdout",
     "output_type": "stream",
     "text": [
      "Model: Gradient Boosting Regression\n",
      "\n",
      "Mean Absolute Error(MAE): 79472.42\n",
      "Mean Squared Error(MSE):18765297355.59\n",
      "Root Mean Squared Error(RMSE):136986.49\n",
      "Variance score: 86.94\n",
      "R square : 0.87\n"
     ]
    }
   ],
   "source": [
    "print('Model: Gradient Boosting Regression\\n')\n",
    "print('Mean Absolute Error(MAE): {:.2f}'.format(metrics.mean_absolute_error(y_test, y_preddd))) \n",
    "print('Mean Squared Error(MSE):{:.2f}'.format(metrics.mean_squared_error(y_test, y_preddd)))  \n",
    "print('Root Mean Squared Error(RMSE):{:.2f}'.format(np.sqrt(metrics.mean_squared_error(y_test, y_preddd))))\n",
    "print('Variance score: {:.2f}'.format(metrics.explained_variance_score(y_test,y_preddd)*100))\n",
    "print('R square : {:.2f}'.format(metrics.r2_score(y_test,y_preddd)))\n",
    "\n"
   ]
  },
  {
   "cell_type": "markdown",
   "metadata": {
    "id": "kuaiXMp9YZfP"
   },
   "source": [
    "## Multiple Linear Regression vs Keras Regression vs Gradient Boosting Regression"
   ]
  },
  {
   "cell_type": "code",
   "execution_count": 74,
   "metadata": {
    "colab": {
     "base_uri": "https://localhost:8080/"
    },
    "id": "q7ndU0ieXxBe",
    "outputId": "cfe72c31-bd9b-4009-c2b9-38a32d5475f5"
   },
   "outputs": [
    {
     "name": "stdout",
     "output_type": "stream",
     "text": [
      "Model: Keras Regression\n",
      "\n",
      "Mean Absolute Error(MAE): 101078.14\n",
      "Mean Squared Error(MSE): 28367872851.42\n",
      "Root Mean Squared Error(RMSE): 168427.65\n",
      "Variance score: 80.25\n",
      "\n",
      "R square : 0.80\n",
      "*********************************\n",
      "\n",
      "Model: Multiple Linear Regression\n",
      "\n",
      "Mean Absolute Error(MAE): 126112.14\n",
      "Mean Squared Error(MSE):41906053973.68\n",
      "Root Mean Squared Error(RMSE):204709.68\n",
      "Variance score: 70.83\n",
      "\n",
      "R square: 0.7082968032718521\n",
      "*********************************\n",
      "\n",
      "Model: Gradient Boosting Regression\n",
      "\n",
      "Mean Absolute Error(MAE): 79472.42\n",
      "Mean Squared Error(MSE):18765297355.59\n",
      "Root Mean Squared Error(RMSE):136986.49\n",
      "Variance score: 86.94\n",
      "R square : 0.87\n"
     ]
    }
   ],
   "source": [
    "print('Model: Keras Regression\\n')\n",
    "\n",
    "print('Mean Absolute Error(MAE): {:.2f}'.format(metrics.mean_absolute_error(y_test, y_pred)))\n",
    "print('Mean Squared Error(MSE): {:.2f}'.format(metrics.mean_squared_error(y_test, y_pred)))\n",
    "print('Root Mean Squared Error(RMSE): {:.2f}'.format(np.sqrt(metrics.mean_squared_error(y_test, y_pred))))\n",
    "print('Variance score: {:.2f}\\n'.format(metrics.explained_variance_score(y_test,y_pred)*100))\n",
    "print('R square : {:.2f}'.format(metrics.r2_score(y_test,y_pred)))\n",
    "\n",
    "\n",
    "\n",
    "\n",
    "print('*********************************\\n')\n",
    "print('Model: Multiple Linear Regression\\n')\n",
    "print('Mean Absolute Error(MAE): {:.2f}'.format(metrics.mean_absolute_error(y_test, y_predd))) \n",
    "print('Mean Squared Error(MSE):{:.2f}'.format(metrics.mean_squared_error(y_test, y_predd)))  \n",
    "print('Root Mean Squared Error(RMSE):{:.2f}'.format(np.sqrt(metrics.mean_squared_error(y_test, y_predd))))\n",
    "print('Variance score: {:.2f}\\n'.format(metrics.explained_variance_score(y_test,y_predd)*100))\n",
    "print('R square:' , metrics.r2_score(y_test,y_predd))\n",
    "\n",
    "\n",
    "\n",
    "\n",
    "\n",
    "print('*********************************\\n')\n",
    "print('Model: Gradient Boosting Regression\\n')\n",
    "print('Mean Absolute Error(MAE): {:.2f}'.format(metrics.mean_absolute_error(y_test, y_preddd))) \n",
    "print('Mean Squared Error(MSE):{:.2f}'.format(metrics.mean_squared_error(y_test, y_preddd)))  \n",
    "print('Root Mean Squared Error(RMSE):{:.2f}'.format(np.sqrt(metrics.mean_squared_error(y_test, y_preddd))))\n",
    "print('Variance score: {:.2f}'.format(metrics.explained_variance_score(y_test,y_preddd)*100))\n",
    "print('R square : {:.2f}'.format(metrics.r2_score(y_test,y_preddd)))\n"
   ]
  }
 ],
 "metadata": {
  "accelerator": "GPU",
  "colab": {
   "collapsed_sections": [],
   "name": "10543591Houseprice.ipynb",
   "provenance": [],
   "toc_visible": true
  },
  "kernelspec": {
   "display_name": "Python 3",
   "language": "python",
   "name": "python3"
  },
  "language_info": {
   "codemirror_mode": {
    "name": "ipython",
    "version": 3
   },
   "file_extension": ".py",
   "mimetype": "text/x-python",
   "name": "python",
   "nbconvert_exporter": "python",
   "pygments_lexer": "ipython3",
   "version": "3.7.6"
  }
 },
 "nbformat": 4,
 "nbformat_minor": 1
}
